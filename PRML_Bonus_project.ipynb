{
  "cells": [
    {
      "cell_type": "markdown",
      "metadata": {
        "id": "AK2qYCoDbkna"
      },
      "source": [
        "## Pre-processing"
      ]
    },
    {
      "cell_type": "code",
      "execution_count": 209,
      "metadata": {
        "id": "00FvQKtjbnix"
      },
      "outputs": [],
      "source": [
        "#First import the required libraries such as pandas and numpy\n",
        "import pandas as pd\n",
        "import numpy as np\n",
        "import matplotlib.pyplot as plt\n",
        "import seaborn as sns"
      ]
    },
    {
      "cell_type": "code",
      "execution_count": 210,
      "metadata": {
        "colab": {
          "base_uri": "https://localhost:8080/",
          "height": 424
        },
        "id": "90AUpfaSb9xT",
        "outputId": "0224dfca-7926-4f68-e91e-d62b852ef105"
      },
      "outputs": [
        {
          "output_type": "execute_result",
          "data": {
            "text/plain": [
              "           Airline Date_of_Journey    Source Destination  \\\n",
              "0           IndiGo      24/03/2019  Banglore   New Delhi   \n",
              "1        Air India       1/05/2019   Kolkata    Banglore   \n",
              "2      Jet Airways       9/06/2019     Delhi      Cochin   \n",
              "3           IndiGo      12/05/2019   Kolkata    Banglore   \n",
              "4           IndiGo      01/03/2019  Banglore   New Delhi   \n",
              "...            ...             ...       ...         ...   \n",
              "10678     Air Asia       9/04/2019   Kolkata    Banglore   \n",
              "10679    Air India      27/04/2019   Kolkata    Banglore   \n",
              "10680  Jet Airways      27/04/2019  Banglore       Delhi   \n",
              "10681      Vistara      01/03/2019  Banglore   New Delhi   \n",
              "10682    Air India       9/05/2019     Delhi      Cochin   \n",
              "\n",
              "                       Route Dep_Time  Arrival_Time Duration Total_Stops  \\\n",
              "0                  BLR → DEL    22:20  01:10 22 Mar   2h 50m    non-stop   \n",
              "1      CCU → IXR → BBI → BLR    05:50         13:15   7h 25m     2 stops   \n",
              "2      DEL → LKO → BOM → COK    09:25  04:25 10 Jun      19h     2 stops   \n",
              "3            CCU → NAG → BLR    18:05         23:30   5h 25m      1 stop   \n",
              "4            BLR → NAG → DEL    16:50         21:35   4h 45m      1 stop   \n",
              "...                      ...      ...           ...      ...         ...   \n",
              "10678              CCU → BLR    19:55         22:25   2h 30m    non-stop   \n",
              "10679              CCU → BLR    20:45         23:20   2h 35m    non-stop   \n",
              "10680              BLR → DEL    08:20         11:20       3h    non-stop   \n",
              "10681              BLR → DEL    11:30         14:10   2h 40m    non-stop   \n",
              "10682  DEL → GOI → BOM → COK    10:55         19:15   8h 20m     2 stops   \n",
              "\n",
              "      Additional_Info  Price  \n",
              "0             No info   3897  \n",
              "1             No info   7662  \n",
              "2             No info  13882  \n",
              "3             No info   6218  \n",
              "4             No info  13302  \n",
              "...               ...    ...  \n",
              "10678         No info   4107  \n",
              "10679         No info   4145  \n",
              "10680         No info   7229  \n",
              "10681         No info  12648  \n",
              "10682         No info  11753  \n",
              "\n",
              "[10683 rows x 11 columns]"
            ],
            "text/html": [
              "\n",
              "  <div id=\"df-5dde4087-df8f-4888-8e77-ed92136bbfcc\">\n",
              "    <div class=\"colab-df-container\">\n",
              "      <div>\n",
              "<style scoped>\n",
              "    .dataframe tbody tr th:only-of-type {\n",
              "        vertical-align: middle;\n",
              "    }\n",
              "\n",
              "    .dataframe tbody tr th {\n",
              "        vertical-align: top;\n",
              "    }\n",
              "\n",
              "    .dataframe thead th {\n",
              "        text-align: right;\n",
              "    }\n",
              "</style>\n",
              "<table border=\"1\" class=\"dataframe\">\n",
              "  <thead>\n",
              "    <tr style=\"text-align: right;\">\n",
              "      <th></th>\n",
              "      <th>Airline</th>\n",
              "      <th>Date_of_Journey</th>\n",
              "      <th>Source</th>\n",
              "      <th>Destination</th>\n",
              "      <th>Route</th>\n",
              "      <th>Dep_Time</th>\n",
              "      <th>Arrival_Time</th>\n",
              "      <th>Duration</th>\n",
              "      <th>Total_Stops</th>\n",
              "      <th>Additional_Info</th>\n",
              "      <th>Price</th>\n",
              "    </tr>\n",
              "  </thead>\n",
              "  <tbody>\n",
              "    <tr>\n",
              "      <th>0</th>\n",
              "      <td>IndiGo</td>\n",
              "      <td>24/03/2019</td>\n",
              "      <td>Banglore</td>\n",
              "      <td>New Delhi</td>\n",
              "      <td>BLR → DEL</td>\n",
              "      <td>22:20</td>\n",
              "      <td>01:10 22 Mar</td>\n",
              "      <td>2h 50m</td>\n",
              "      <td>non-stop</td>\n",
              "      <td>No info</td>\n",
              "      <td>3897</td>\n",
              "    </tr>\n",
              "    <tr>\n",
              "      <th>1</th>\n",
              "      <td>Air India</td>\n",
              "      <td>1/05/2019</td>\n",
              "      <td>Kolkata</td>\n",
              "      <td>Banglore</td>\n",
              "      <td>CCU → IXR → BBI → BLR</td>\n",
              "      <td>05:50</td>\n",
              "      <td>13:15</td>\n",
              "      <td>7h 25m</td>\n",
              "      <td>2 stops</td>\n",
              "      <td>No info</td>\n",
              "      <td>7662</td>\n",
              "    </tr>\n",
              "    <tr>\n",
              "      <th>2</th>\n",
              "      <td>Jet Airways</td>\n",
              "      <td>9/06/2019</td>\n",
              "      <td>Delhi</td>\n",
              "      <td>Cochin</td>\n",
              "      <td>DEL → LKO → BOM → COK</td>\n",
              "      <td>09:25</td>\n",
              "      <td>04:25 10 Jun</td>\n",
              "      <td>19h</td>\n",
              "      <td>2 stops</td>\n",
              "      <td>No info</td>\n",
              "      <td>13882</td>\n",
              "    </tr>\n",
              "    <tr>\n",
              "      <th>3</th>\n",
              "      <td>IndiGo</td>\n",
              "      <td>12/05/2019</td>\n",
              "      <td>Kolkata</td>\n",
              "      <td>Banglore</td>\n",
              "      <td>CCU → NAG → BLR</td>\n",
              "      <td>18:05</td>\n",
              "      <td>23:30</td>\n",
              "      <td>5h 25m</td>\n",
              "      <td>1 stop</td>\n",
              "      <td>No info</td>\n",
              "      <td>6218</td>\n",
              "    </tr>\n",
              "    <tr>\n",
              "      <th>4</th>\n",
              "      <td>IndiGo</td>\n",
              "      <td>01/03/2019</td>\n",
              "      <td>Banglore</td>\n",
              "      <td>New Delhi</td>\n",
              "      <td>BLR → NAG → DEL</td>\n",
              "      <td>16:50</td>\n",
              "      <td>21:35</td>\n",
              "      <td>4h 45m</td>\n",
              "      <td>1 stop</td>\n",
              "      <td>No info</td>\n",
              "      <td>13302</td>\n",
              "    </tr>\n",
              "    <tr>\n",
              "      <th>...</th>\n",
              "      <td>...</td>\n",
              "      <td>...</td>\n",
              "      <td>...</td>\n",
              "      <td>...</td>\n",
              "      <td>...</td>\n",
              "      <td>...</td>\n",
              "      <td>...</td>\n",
              "      <td>...</td>\n",
              "      <td>...</td>\n",
              "      <td>...</td>\n",
              "      <td>...</td>\n",
              "    </tr>\n",
              "    <tr>\n",
              "      <th>10678</th>\n",
              "      <td>Air Asia</td>\n",
              "      <td>9/04/2019</td>\n",
              "      <td>Kolkata</td>\n",
              "      <td>Banglore</td>\n",
              "      <td>CCU → BLR</td>\n",
              "      <td>19:55</td>\n",
              "      <td>22:25</td>\n",
              "      <td>2h 30m</td>\n",
              "      <td>non-stop</td>\n",
              "      <td>No info</td>\n",
              "      <td>4107</td>\n",
              "    </tr>\n",
              "    <tr>\n",
              "      <th>10679</th>\n",
              "      <td>Air India</td>\n",
              "      <td>27/04/2019</td>\n",
              "      <td>Kolkata</td>\n",
              "      <td>Banglore</td>\n",
              "      <td>CCU → BLR</td>\n",
              "      <td>20:45</td>\n",
              "      <td>23:20</td>\n",
              "      <td>2h 35m</td>\n",
              "      <td>non-stop</td>\n",
              "      <td>No info</td>\n",
              "      <td>4145</td>\n",
              "    </tr>\n",
              "    <tr>\n",
              "      <th>10680</th>\n",
              "      <td>Jet Airways</td>\n",
              "      <td>27/04/2019</td>\n",
              "      <td>Banglore</td>\n",
              "      <td>Delhi</td>\n",
              "      <td>BLR → DEL</td>\n",
              "      <td>08:20</td>\n",
              "      <td>11:20</td>\n",
              "      <td>3h</td>\n",
              "      <td>non-stop</td>\n",
              "      <td>No info</td>\n",
              "      <td>7229</td>\n",
              "    </tr>\n",
              "    <tr>\n",
              "      <th>10681</th>\n",
              "      <td>Vistara</td>\n",
              "      <td>01/03/2019</td>\n",
              "      <td>Banglore</td>\n",
              "      <td>New Delhi</td>\n",
              "      <td>BLR → DEL</td>\n",
              "      <td>11:30</td>\n",
              "      <td>14:10</td>\n",
              "      <td>2h 40m</td>\n",
              "      <td>non-stop</td>\n",
              "      <td>No info</td>\n",
              "      <td>12648</td>\n",
              "    </tr>\n",
              "    <tr>\n",
              "      <th>10682</th>\n",
              "      <td>Air India</td>\n",
              "      <td>9/05/2019</td>\n",
              "      <td>Delhi</td>\n",
              "      <td>Cochin</td>\n",
              "      <td>DEL → GOI → BOM → COK</td>\n",
              "      <td>10:55</td>\n",
              "      <td>19:15</td>\n",
              "      <td>8h 20m</td>\n",
              "      <td>2 stops</td>\n",
              "      <td>No info</td>\n",
              "      <td>11753</td>\n",
              "    </tr>\n",
              "  </tbody>\n",
              "</table>\n",
              "<p>10683 rows × 11 columns</p>\n",
              "</div>\n",
              "      <button class=\"colab-df-convert\" onclick=\"convertToInteractive('df-5dde4087-df8f-4888-8e77-ed92136bbfcc')\"\n",
              "              title=\"Convert this dataframe to an interactive table.\"\n",
              "              style=\"display:none;\">\n",
              "        \n",
              "  <svg xmlns=\"http://www.w3.org/2000/svg\" height=\"24px\"viewBox=\"0 0 24 24\"\n",
              "       width=\"24px\">\n",
              "    <path d=\"M0 0h24v24H0V0z\" fill=\"none\"/>\n",
              "    <path d=\"M18.56 5.44l.94 2.06.94-2.06 2.06-.94-2.06-.94-.94-2.06-.94 2.06-2.06.94zm-11 1L8.5 8.5l.94-2.06 2.06-.94-2.06-.94L8.5 2.5l-.94 2.06-2.06.94zm10 10l.94 2.06.94-2.06 2.06-.94-2.06-.94-.94-2.06-.94 2.06-2.06.94z\"/><path d=\"M17.41 7.96l-1.37-1.37c-.4-.4-.92-.59-1.43-.59-.52 0-1.04.2-1.43.59L10.3 9.45l-7.72 7.72c-.78.78-.78 2.05 0 2.83L4 21.41c.39.39.9.59 1.41.59.51 0 1.02-.2 1.41-.59l7.78-7.78 2.81-2.81c.8-.78.8-2.07 0-2.86zM5.41 20L4 18.59l7.72-7.72 1.47 1.35L5.41 20z\"/>\n",
              "  </svg>\n",
              "      </button>\n",
              "      \n",
              "  <style>\n",
              "    .colab-df-container {\n",
              "      display:flex;\n",
              "      flex-wrap:wrap;\n",
              "      gap: 12px;\n",
              "    }\n",
              "\n",
              "    .colab-df-convert {\n",
              "      background-color: #E8F0FE;\n",
              "      border: none;\n",
              "      border-radius: 50%;\n",
              "      cursor: pointer;\n",
              "      display: none;\n",
              "      fill: #1967D2;\n",
              "      height: 32px;\n",
              "      padding: 0 0 0 0;\n",
              "      width: 32px;\n",
              "    }\n",
              "\n",
              "    .colab-df-convert:hover {\n",
              "      background-color: #E2EBFA;\n",
              "      box-shadow: 0px 1px 2px rgba(60, 64, 67, 0.3), 0px 1px 3px 1px rgba(60, 64, 67, 0.15);\n",
              "      fill: #174EA6;\n",
              "    }\n",
              "\n",
              "    [theme=dark] .colab-df-convert {\n",
              "      background-color: #3B4455;\n",
              "      fill: #D2E3FC;\n",
              "    }\n",
              "\n",
              "    [theme=dark] .colab-df-convert:hover {\n",
              "      background-color: #434B5C;\n",
              "      box-shadow: 0px 1px 3px 1px rgba(0, 0, 0, 0.15);\n",
              "      filter: drop-shadow(0px 1px 2px rgba(0, 0, 0, 0.3));\n",
              "      fill: #FFFFFF;\n",
              "    }\n",
              "  </style>\n",
              "\n",
              "      <script>\n",
              "        const buttonEl =\n",
              "          document.querySelector('#df-5dde4087-df8f-4888-8e77-ed92136bbfcc button.colab-df-convert');\n",
              "        buttonEl.style.display =\n",
              "          google.colab.kernel.accessAllowed ? 'block' : 'none';\n",
              "\n",
              "        async function convertToInteractive(key) {\n",
              "          const element = document.querySelector('#df-5dde4087-df8f-4888-8e77-ed92136bbfcc');\n",
              "          const dataTable =\n",
              "            await google.colab.kernel.invokeFunction('convertToInteractive',\n",
              "                                                     [key], {});\n",
              "          if (!dataTable) return;\n",
              "\n",
              "          const docLinkHtml = 'Like what you see? Visit the ' +\n",
              "            '<a target=\"_blank\" href=https://colab.research.google.com/notebooks/data_table.ipynb>data table notebook</a>'\n",
              "            + ' to learn more about interactive tables.';\n",
              "          element.innerHTML = '';\n",
              "          dataTable['output_type'] = 'display_data';\n",
              "          await google.colab.output.renderOutput(dataTable, element);\n",
              "          const docLink = document.createElement('div');\n",
              "          docLink.innerHTML = docLinkHtml;\n",
              "          element.appendChild(docLink);\n",
              "        }\n",
              "      </script>\n",
              "    </div>\n",
              "  </div>\n",
              "  "
            ]
          },
          "metadata": {},
          "execution_count": 210
        }
      ],
      "source": [
        "data = pd.read_excel(\"Dataset.xlsx\") #load the data as pandas dataframe\n",
        "data"
      ]
    },
    {
      "cell_type": "code",
      "execution_count": 211,
      "metadata": {
        "colab": {
          "base_uri": "https://localhost:8080/"
        },
        "id": "YWmtbnkJc8iu",
        "outputId": "60e8cfbf-3ad9-42df-cd00-d4c4675e4cb4"
      },
      "outputs": [
        {
          "output_type": "stream",
          "name": "stdout",
          "text": [
            "<class 'pandas.core.frame.DataFrame'>\n",
            "RangeIndex: 10683 entries, 0 to 10682\n",
            "Data columns (total 11 columns):\n",
            " #   Column           Non-Null Count  Dtype \n",
            "---  ------           --------------  ----- \n",
            " 0   Airline          10683 non-null  object\n",
            " 1   Date_of_Journey  10683 non-null  object\n",
            " 2   Source           10683 non-null  object\n",
            " 3   Destination      10683 non-null  object\n",
            " 4   Route            10682 non-null  object\n",
            " 5   Dep_Time         10683 non-null  object\n",
            " 6   Arrival_Time     10683 non-null  object\n",
            " 7   Duration         10683 non-null  object\n",
            " 8   Total_Stops      10682 non-null  object\n",
            " 9   Additional_Info  10683 non-null  object\n",
            " 10  Price            10683 non-null  int64 \n",
            "dtypes: int64(1), object(10)\n",
            "memory usage: 918.2+ KB\n"
          ]
        }
      ],
      "source": [
        "data.info() #Getting information of data"
      ]
    },
    {
      "cell_type": "code",
      "execution_count": 212,
      "metadata": {
        "colab": {
          "base_uri": "https://localhost:8080/"
        },
        "id": "Zf_k7sRYhUDM",
        "outputId": "1ae7ab3d-c6c2-4142-a72e-c2f092cccc2e"
      },
      "outputs": [
        {
          "output_type": "execute_result",
          "data": {
            "text/plain": [
              "Airline            0\n",
              "Date_of_Journey    0\n",
              "Source             0\n",
              "Destination        0\n",
              "Route              0\n",
              "Dep_Time           0\n",
              "Arrival_Time       0\n",
              "Duration           0\n",
              "Total_Stops        0\n",
              "Additional_Info    0\n",
              "Price              0\n",
              "dtype: int64"
            ]
          },
          "metadata": {},
          "execution_count": 212
        }
      ],
      "source": [
        "#Droping the NAN values from the data\n",
        "data.dropna(inplace = True)\n",
        "#Checking if any nan value remains\n",
        "data.isnull().sum()"
      ]
    },
    {
      "cell_type": "code",
      "execution_count": 213,
      "metadata": {
        "id": "kiqItaM4ha2w"
      },
      "outputs": [],
      "source": [
        "#Extracting date, month, year from the Date_of_journey feature and then droping it\n",
        "\n",
        "data[\"date\"] = pd.to_datetime(data.Date_of_Journey, format=\"%d/%m/%Y\").dt.day\n",
        "data[\"month\"] = pd.to_datetime(data[\"Date_of_Journey\"], format = \"%d/%m/%Y\").dt.month\n",
        "data[\"year\"] = pd.to_datetime(data[\"Date_of_Journey\"], format = \"%d/%m/%Y\").dt.year\n",
        "data.drop([\"Date_of_Journey\"], axis = 1, inplace = True)"
      ]
    },
    {
      "cell_type": "code",
      "execution_count": 214,
      "metadata": {
        "id": "XWxWVBzkhvXD"
      },
      "outputs": [],
      "source": [
        "#Extracting hour, min from Dep_time feature and then droping it\n",
        "\n",
        "data[\"hour\"] = pd.to_datetime(data[\"Dep_Time\"]).dt.hour\n",
        "data[\"min\"] = pd.to_datetime(data[\"Dep_Time\"]).dt.minute\n",
        "data.drop([\"Dep_Time\"], axis = 1, inplace = True)"
      ]
    },
    {
      "cell_type": "code",
      "execution_count": 215,
      "metadata": {
        "id": "061w14EfiBXz"
      },
      "outputs": [],
      "source": [
        "#Extracting hour, min from Arrival_time feature and then droping it\n",
        "\n",
        "data[\"Arrival_time_hour\"] = pd.to_datetime(data.Arrival_Time).dt.hour\n",
        "data[\"Arrival_time_min\"] = pd.to_datetime(data.Arrival_Time).dt.minute\n",
        "data.drop([\"Arrival_Time\"], axis = 1, inplace = True)"
      ]
    },
    {
      "cell_type": "code",
      "execution_count": 216,
      "metadata": {
        "id": "_utvVVxMiM79"
      },
      "outputs": [],
      "source": [
        "#Extracting hour, min from Duration feature and then droping it\n",
        "\n",
        "data.Duration = data.Duration.str.split(' ')\n",
        "data['Duration_hours'] = data.Duration.str[0]\n",
        "data[\"Duration_hours\"] = data['Duration_hours'].str.split('h')\n",
        "data[\"Duration_hours\"] = data['Duration_hours'].str[0]\n",
        "data.Duration_hours = data.Duration_hours\n",
        "\n",
        "data[\"Duration_mins\"] = data.Duration.str[1]\n",
        "data.Duration_mins = data.Duration_mins.str.split('m')\n",
        "data.Duration_mins = data.Duration_mins.str[0]\n",
        "\n",
        "\n",
        "data.drop([\"Duration\"], axis = 1, inplace = True)"
      ]
    },
    {
      "cell_type": "code",
      "execution_count": 217,
      "metadata": {
        "id": "A4AT5BaAMt4I"
      },
      "outputs": [],
      "source": [
        "#Spliting the Route feature into different cities \n",
        "data.Route = data.Route.str.split('→')"
      ]
    },
    {
      "cell_type": "code",
      "execution_count": 218,
      "metadata": {
        "id": "_iBixJaSNHG2"
      },
      "outputs": [],
      "source": [
        "data['City_1'] = data.Route.str[0]\n",
        "data['City_2'] = data.Route.str[1]\n",
        "data['City_3'] = data.Route.str[2]\n",
        "data['City_4'] = data.Route.str[3]\n",
        "data['City_5'] = data.Route.str[4]\n",
        "data['City_6'] = data.Route.str[5]"
      ]
    },
    {
      "cell_type": "code",
      "execution_count": 219,
      "metadata": {
        "id": "xQ6g9R4lMbuF"
      },
      "outputs": [],
      "source": [
        "#First, replace the non-stop keyword by 0 and storing the first integer value\n",
        "\n",
        "data.Total_Stops.replace('non-stop', '0', inplace = True)\n",
        "data.Total_Stops = data.Total_Stops.str.split(' ')\n",
        "data.Total_Stops = data.Total_Stops.str[0]"
      ]
    },
    {
      "cell_type": "code",
      "execution_count": 220,
      "metadata": {
        "colab": {
          "base_uri": "https://localhost:8080/",
          "height": 956
        },
        "id": "rpEDgQrDjzy_",
        "outputId": "90ddfcea-b922-4a15-a77d-b1b05b2d9760"
      },
      "outputs": [
        {
          "output_type": "execute_result",
          "data": {
            "text/plain": [
              "           Airline    Source Destination                       Route  \\\n",
              "0           IndiGo  Banglore   New Delhi                [BLR ,  DEL]   \n",
              "1        Air India   Kolkata    Banglore  [CCU ,  IXR ,  BBI ,  BLR]   \n",
              "2      Jet Airways     Delhi      Cochin  [DEL ,  LKO ,  BOM ,  COK]   \n",
              "3           IndiGo   Kolkata    Banglore         [CCU ,  NAG ,  BLR]   \n",
              "4           IndiGo  Banglore   New Delhi         [BLR ,  NAG ,  DEL]   \n",
              "...            ...       ...         ...                         ...   \n",
              "10678     Air Asia   Kolkata    Banglore                [CCU ,  BLR]   \n",
              "10679    Air India   Kolkata    Banglore                [CCU ,  BLR]   \n",
              "10680  Jet Airways  Banglore       Delhi                [BLR ,  DEL]   \n",
              "10681      Vistara  Banglore   New Delhi                [BLR ,  DEL]   \n",
              "10682    Air India     Delhi      Cochin  [DEL ,  GOI ,  BOM ,  COK]   \n",
              "\n",
              "      Total_Stops Additional_Info  Price  date  month  year  ...  \\\n",
              "0               0         No info   3897    24      3  2019  ...   \n",
              "1               2         No info   7662     1      5  2019  ...   \n",
              "2               2         No info  13882     9      6  2019  ...   \n",
              "3               1         No info   6218    12      5  2019  ...   \n",
              "4               1         No info  13302     1      3  2019  ...   \n",
              "...           ...             ...    ...   ...    ...   ...  ...   \n",
              "10678           0         No info   4107     9      4  2019  ...   \n",
              "10679           0         No info   4145    27      4  2019  ...   \n",
              "10680           0         No info   7229    27      4  2019  ...   \n",
              "10681           0         No info  12648     1      3  2019  ...   \n",
              "10682           2         No info  11753     9      5  2019  ...   \n",
              "\n",
              "       Arrival_time_hour  Arrival_time_min  Duration_hours  Duration_mins  \\\n",
              "0                      1                10               2             50   \n",
              "1                     13                15               7             25   \n",
              "2                      4                25              19            NaN   \n",
              "3                     23                30               5             25   \n",
              "4                     21                35               4             45   \n",
              "...                  ...               ...             ...            ...   \n",
              "10678                 22                25               2             30   \n",
              "10679                 23                20               2             35   \n",
              "10680                 11                20               3            NaN   \n",
              "10681                 14                10               2             40   \n",
              "10682                 19                15               8             20   \n",
              "\n",
              "      City_1 City_2 City_3 City_4 City_5 City_6  \n",
              "0       BLR     DEL    NaN    NaN    NaN    NaN  \n",
              "1       CCU    IXR    BBI     BLR    NaN    NaN  \n",
              "2       DEL    LKO    BOM     COK    NaN    NaN  \n",
              "3       CCU    NAG     BLR    NaN    NaN    NaN  \n",
              "4       BLR    NAG     DEL    NaN    NaN    NaN  \n",
              "...      ...    ...    ...    ...    ...    ...  \n",
              "10678   CCU     BLR    NaN    NaN    NaN    NaN  \n",
              "10679   CCU     BLR    NaN    NaN    NaN    NaN  \n",
              "10680   BLR     DEL    NaN    NaN    NaN    NaN  \n",
              "10681   BLR     DEL    NaN    NaN    NaN    NaN  \n",
              "10682   DEL    GOI    BOM     COK    NaN    NaN  \n",
              "\n",
              "[10682 rows x 22 columns]"
            ],
            "text/html": [
              "\n",
              "  <div id=\"df-2e35620e-d6f2-4bfa-a188-8a7432f58eee\">\n",
              "    <div class=\"colab-df-container\">\n",
              "      <div>\n",
              "<style scoped>\n",
              "    .dataframe tbody tr th:only-of-type {\n",
              "        vertical-align: middle;\n",
              "    }\n",
              "\n",
              "    .dataframe tbody tr th {\n",
              "        vertical-align: top;\n",
              "    }\n",
              "\n",
              "    .dataframe thead th {\n",
              "        text-align: right;\n",
              "    }\n",
              "</style>\n",
              "<table border=\"1\" class=\"dataframe\">\n",
              "  <thead>\n",
              "    <tr style=\"text-align: right;\">\n",
              "      <th></th>\n",
              "      <th>Airline</th>\n",
              "      <th>Source</th>\n",
              "      <th>Destination</th>\n",
              "      <th>Route</th>\n",
              "      <th>Total_Stops</th>\n",
              "      <th>Additional_Info</th>\n",
              "      <th>Price</th>\n",
              "      <th>date</th>\n",
              "      <th>month</th>\n",
              "      <th>year</th>\n",
              "      <th>...</th>\n",
              "      <th>Arrival_time_hour</th>\n",
              "      <th>Arrival_time_min</th>\n",
              "      <th>Duration_hours</th>\n",
              "      <th>Duration_mins</th>\n",
              "      <th>City_1</th>\n",
              "      <th>City_2</th>\n",
              "      <th>City_3</th>\n",
              "      <th>City_4</th>\n",
              "      <th>City_5</th>\n",
              "      <th>City_6</th>\n",
              "    </tr>\n",
              "  </thead>\n",
              "  <tbody>\n",
              "    <tr>\n",
              "      <th>0</th>\n",
              "      <td>IndiGo</td>\n",
              "      <td>Banglore</td>\n",
              "      <td>New Delhi</td>\n",
              "      <td>[BLR ,  DEL]</td>\n",
              "      <td>0</td>\n",
              "      <td>No info</td>\n",
              "      <td>3897</td>\n",
              "      <td>24</td>\n",
              "      <td>3</td>\n",
              "      <td>2019</td>\n",
              "      <td>...</td>\n",
              "      <td>1</td>\n",
              "      <td>10</td>\n",
              "      <td>2</td>\n",
              "      <td>50</td>\n",
              "      <td>BLR</td>\n",
              "      <td>DEL</td>\n",
              "      <td>NaN</td>\n",
              "      <td>NaN</td>\n",
              "      <td>NaN</td>\n",
              "      <td>NaN</td>\n",
              "    </tr>\n",
              "    <tr>\n",
              "      <th>1</th>\n",
              "      <td>Air India</td>\n",
              "      <td>Kolkata</td>\n",
              "      <td>Banglore</td>\n",
              "      <td>[CCU ,  IXR ,  BBI ,  BLR]</td>\n",
              "      <td>2</td>\n",
              "      <td>No info</td>\n",
              "      <td>7662</td>\n",
              "      <td>1</td>\n",
              "      <td>5</td>\n",
              "      <td>2019</td>\n",
              "      <td>...</td>\n",
              "      <td>13</td>\n",
              "      <td>15</td>\n",
              "      <td>7</td>\n",
              "      <td>25</td>\n",
              "      <td>CCU</td>\n",
              "      <td>IXR</td>\n",
              "      <td>BBI</td>\n",
              "      <td>BLR</td>\n",
              "      <td>NaN</td>\n",
              "      <td>NaN</td>\n",
              "    </tr>\n",
              "    <tr>\n",
              "      <th>2</th>\n",
              "      <td>Jet Airways</td>\n",
              "      <td>Delhi</td>\n",
              "      <td>Cochin</td>\n",
              "      <td>[DEL ,  LKO ,  BOM ,  COK]</td>\n",
              "      <td>2</td>\n",
              "      <td>No info</td>\n",
              "      <td>13882</td>\n",
              "      <td>9</td>\n",
              "      <td>6</td>\n",
              "      <td>2019</td>\n",
              "      <td>...</td>\n",
              "      <td>4</td>\n",
              "      <td>25</td>\n",
              "      <td>19</td>\n",
              "      <td>NaN</td>\n",
              "      <td>DEL</td>\n",
              "      <td>LKO</td>\n",
              "      <td>BOM</td>\n",
              "      <td>COK</td>\n",
              "      <td>NaN</td>\n",
              "      <td>NaN</td>\n",
              "    </tr>\n",
              "    <tr>\n",
              "      <th>3</th>\n",
              "      <td>IndiGo</td>\n",
              "      <td>Kolkata</td>\n",
              "      <td>Banglore</td>\n",
              "      <td>[CCU ,  NAG ,  BLR]</td>\n",
              "      <td>1</td>\n",
              "      <td>No info</td>\n",
              "      <td>6218</td>\n",
              "      <td>12</td>\n",
              "      <td>5</td>\n",
              "      <td>2019</td>\n",
              "      <td>...</td>\n",
              "      <td>23</td>\n",
              "      <td>30</td>\n",
              "      <td>5</td>\n",
              "      <td>25</td>\n",
              "      <td>CCU</td>\n",
              "      <td>NAG</td>\n",
              "      <td>BLR</td>\n",
              "      <td>NaN</td>\n",
              "      <td>NaN</td>\n",
              "      <td>NaN</td>\n",
              "    </tr>\n",
              "    <tr>\n",
              "      <th>4</th>\n",
              "      <td>IndiGo</td>\n",
              "      <td>Banglore</td>\n",
              "      <td>New Delhi</td>\n",
              "      <td>[BLR ,  NAG ,  DEL]</td>\n",
              "      <td>1</td>\n",
              "      <td>No info</td>\n",
              "      <td>13302</td>\n",
              "      <td>1</td>\n",
              "      <td>3</td>\n",
              "      <td>2019</td>\n",
              "      <td>...</td>\n",
              "      <td>21</td>\n",
              "      <td>35</td>\n",
              "      <td>4</td>\n",
              "      <td>45</td>\n",
              "      <td>BLR</td>\n",
              "      <td>NAG</td>\n",
              "      <td>DEL</td>\n",
              "      <td>NaN</td>\n",
              "      <td>NaN</td>\n",
              "      <td>NaN</td>\n",
              "    </tr>\n",
              "    <tr>\n",
              "      <th>...</th>\n",
              "      <td>...</td>\n",
              "      <td>...</td>\n",
              "      <td>...</td>\n",
              "      <td>...</td>\n",
              "      <td>...</td>\n",
              "      <td>...</td>\n",
              "      <td>...</td>\n",
              "      <td>...</td>\n",
              "      <td>...</td>\n",
              "      <td>...</td>\n",
              "      <td>...</td>\n",
              "      <td>...</td>\n",
              "      <td>...</td>\n",
              "      <td>...</td>\n",
              "      <td>...</td>\n",
              "      <td>...</td>\n",
              "      <td>...</td>\n",
              "      <td>...</td>\n",
              "      <td>...</td>\n",
              "      <td>...</td>\n",
              "      <td>...</td>\n",
              "    </tr>\n",
              "    <tr>\n",
              "      <th>10678</th>\n",
              "      <td>Air Asia</td>\n",
              "      <td>Kolkata</td>\n",
              "      <td>Banglore</td>\n",
              "      <td>[CCU ,  BLR]</td>\n",
              "      <td>0</td>\n",
              "      <td>No info</td>\n",
              "      <td>4107</td>\n",
              "      <td>9</td>\n",
              "      <td>4</td>\n",
              "      <td>2019</td>\n",
              "      <td>...</td>\n",
              "      <td>22</td>\n",
              "      <td>25</td>\n",
              "      <td>2</td>\n",
              "      <td>30</td>\n",
              "      <td>CCU</td>\n",
              "      <td>BLR</td>\n",
              "      <td>NaN</td>\n",
              "      <td>NaN</td>\n",
              "      <td>NaN</td>\n",
              "      <td>NaN</td>\n",
              "    </tr>\n",
              "    <tr>\n",
              "      <th>10679</th>\n",
              "      <td>Air India</td>\n",
              "      <td>Kolkata</td>\n",
              "      <td>Banglore</td>\n",
              "      <td>[CCU ,  BLR]</td>\n",
              "      <td>0</td>\n",
              "      <td>No info</td>\n",
              "      <td>4145</td>\n",
              "      <td>27</td>\n",
              "      <td>4</td>\n",
              "      <td>2019</td>\n",
              "      <td>...</td>\n",
              "      <td>23</td>\n",
              "      <td>20</td>\n",
              "      <td>2</td>\n",
              "      <td>35</td>\n",
              "      <td>CCU</td>\n",
              "      <td>BLR</td>\n",
              "      <td>NaN</td>\n",
              "      <td>NaN</td>\n",
              "      <td>NaN</td>\n",
              "      <td>NaN</td>\n",
              "    </tr>\n",
              "    <tr>\n",
              "      <th>10680</th>\n",
              "      <td>Jet Airways</td>\n",
              "      <td>Banglore</td>\n",
              "      <td>Delhi</td>\n",
              "      <td>[BLR ,  DEL]</td>\n",
              "      <td>0</td>\n",
              "      <td>No info</td>\n",
              "      <td>7229</td>\n",
              "      <td>27</td>\n",
              "      <td>4</td>\n",
              "      <td>2019</td>\n",
              "      <td>...</td>\n",
              "      <td>11</td>\n",
              "      <td>20</td>\n",
              "      <td>3</td>\n",
              "      <td>NaN</td>\n",
              "      <td>BLR</td>\n",
              "      <td>DEL</td>\n",
              "      <td>NaN</td>\n",
              "      <td>NaN</td>\n",
              "      <td>NaN</td>\n",
              "      <td>NaN</td>\n",
              "    </tr>\n",
              "    <tr>\n",
              "      <th>10681</th>\n",
              "      <td>Vistara</td>\n",
              "      <td>Banglore</td>\n",
              "      <td>New Delhi</td>\n",
              "      <td>[BLR ,  DEL]</td>\n",
              "      <td>0</td>\n",
              "      <td>No info</td>\n",
              "      <td>12648</td>\n",
              "      <td>1</td>\n",
              "      <td>3</td>\n",
              "      <td>2019</td>\n",
              "      <td>...</td>\n",
              "      <td>14</td>\n",
              "      <td>10</td>\n",
              "      <td>2</td>\n",
              "      <td>40</td>\n",
              "      <td>BLR</td>\n",
              "      <td>DEL</td>\n",
              "      <td>NaN</td>\n",
              "      <td>NaN</td>\n",
              "      <td>NaN</td>\n",
              "      <td>NaN</td>\n",
              "    </tr>\n",
              "    <tr>\n",
              "      <th>10682</th>\n",
              "      <td>Air India</td>\n",
              "      <td>Delhi</td>\n",
              "      <td>Cochin</td>\n",
              "      <td>[DEL ,  GOI ,  BOM ,  COK]</td>\n",
              "      <td>2</td>\n",
              "      <td>No info</td>\n",
              "      <td>11753</td>\n",
              "      <td>9</td>\n",
              "      <td>5</td>\n",
              "      <td>2019</td>\n",
              "      <td>...</td>\n",
              "      <td>19</td>\n",
              "      <td>15</td>\n",
              "      <td>8</td>\n",
              "      <td>20</td>\n",
              "      <td>DEL</td>\n",
              "      <td>GOI</td>\n",
              "      <td>BOM</td>\n",
              "      <td>COK</td>\n",
              "      <td>NaN</td>\n",
              "      <td>NaN</td>\n",
              "    </tr>\n",
              "  </tbody>\n",
              "</table>\n",
              "<p>10682 rows × 22 columns</p>\n",
              "</div>\n",
              "      <button class=\"colab-df-convert\" onclick=\"convertToInteractive('df-2e35620e-d6f2-4bfa-a188-8a7432f58eee')\"\n",
              "              title=\"Convert this dataframe to an interactive table.\"\n",
              "              style=\"display:none;\">\n",
              "        \n",
              "  <svg xmlns=\"http://www.w3.org/2000/svg\" height=\"24px\"viewBox=\"0 0 24 24\"\n",
              "       width=\"24px\">\n",
              "    <path d=\"M0 0h24v24H0V0z\" fill=\"none\"/>\n",
              "    <path d=\"M18.56 5.44l.94 2.06.94-2.06 2.06-.94-2.06-.94-.94-2.06-.94 2.06-2.06.94zm-11 1L8.5 8.5l.94-2.06 2.06-.94-2.06-.94L8.5 2.5l-.94 2.06-2.06.94zm10 10l.94 2.06.94-2.06 2.06-.94-2.06-.94-.94-2.06-.94 2.06-2.06.94z\"/><path d=\"M17.41 7.96l-1.37-1.37c-.4-.4-.92-.59-1.43-.59-.52 0-1.04.2-1.43.59L10.3 9.45l-7.72 7.72c-.78.78-.78 2.05 0 2.83L4 21.41c.39.39.9.59 1.41.59.51 0 1.02-.2 1.41-.59l7.78-7.78 2.81-2.81c.8-.78.8-2.07 0-2.86zM5.41 20L4 18.59l7.72-7.72 1.47 1.35L5.41 20z\"/>\n",
              "  </svg>\n",
              "      </button>\n",
              "      \n",
              "  <style>\n",
              "    .colab-df-container {\n",
              "      display:flex;\n",
              "      flex-wrap:wrap;\n",
              "      gap: 12px;\n",
              "    }\n",
              "\n",
              "    .colab-df-convert {\n",
              "      background-color: #E8F0FE;\n",
              "      border: none;\n",
              "      border-radius: 50%;\n",
              "      cursor: pointer;\n",
              "      display: none;\n",
              "      fill: #1967D2;\n",
              "      height: 32px;\n",
              "      padding: 0 0 0 0;\n",
              "      width: 32px;\n",
              "    }\n",
              "\n",
              "    .colab-df-convert:hover {\n",
              "      background-color: #E2EBFA;\n",
              "      box-shadow: 0px 1px 2px rgba(60, 64, 67, 0.3), 0px 1px 3px 1px rgba(60, 64, 67, 0.15);\n",
              "      fill: #174EA6;\n",
              "    }\n",
              "\n",
              "    [theme=dark] .colab-df-convert {\n",
              "      background-color: #3B4455;\n",
              "      fill: #D2E3FC;\n",
              "    }\n",
              "\n",
              "    [theme=dark] .colab-df-convert:hover {\n",
              "      background-color: #434B5C;\n",
              "      box-shadow: 0px 1px 3px 1px rgba(0, 0, 0, 0.15);\n",
              "      filter: drop-shadow(0px 1px 2px rgba(0, 0, 0, 0.3));\n",
              "      fill: #FFFFFF;\n",
              "    }\n",
              "  </style>\n",
              "\n",
              "      <script>\n",
              "        const buttonEl =\n",
              "          document.querySelector('#df-2e35620e-d6f2-4bfa-a188-8a7432f58eee button.colab-df-convert');\n",
              "        buttonEl.style.display =\n",
              "          google.colab.kernel.accessAllowed ? 'block' : 'none';\n",
              "\n",
              "        async function convertToInteractive(key) {\n",
              "          const element = document.querySelector('#df-2e35620e-d6f2-4bfa-a188-8a7432f58eee');\n",
              "          const dataTable =\n",
              "            await google.colab.kernel.invokeFunction('convertToInteractive',\n",
              "                                                     [key], {});\n",
              "          if (!dataTable) return;\n",
              "\n",
              "          const docLinkHtml = 'Like what you see? Visit the ' +\n",
              "            '<a target=\"_blank\" href=https://colab.research.google.com/notebooks/data_table.ipynb>data table notebook</a>'\n",
              "            + ' to learn more about interactive tables.';\n",
              "          element.innerHTML = '';\n",
              "          dataTable['output_type'] = 'display_data';\n",
              "          await google.colab.output.renderOutput(dataTable, element);\n",
              "          const docLink = document.createElement('div');\n",
              "          docLink.innerHTML = docLinkHtml;\n",
              "          element.appendChild(docLink);\n",
              "        }\n",
              "      </script>\n",
              "    </div>\n",
              "  </div>\n",
              "  "
            ]
          },
          "metadata": {},
          "execution_count": 220
        }
      ],
      "source": [
        "data"
      ]
    },
    {
      "cell_type": "markdown",
      "source": [
        "Missing values treatment"
      ],
      "metadata": {
        "id": "iKKG5QbVq8dV"
      }
    },
    {
      "cell_type": "code",
      "execution_count": 221,
      "metadata": {
        "id": "cQCUu_R8OsNN"
      },
      "outputs": [],
      "source": [
        "data.drop([\"City_4\", \"City_5\", \"City_6\"], axis = 1, inplace = True)"
      ]
    },
    {
      "cell_type": "code",
      "execution_count": 222,
      "metadata": {
        "id": "pZaJOV9vPFdg"
      },
      "outputs": [],
      "source": [
        "data[\"City_3\"].fillna('None', inplace = True)"
      ]
    },
    {
      "cell_type": "code",
      "execution_count": 223,
      "metadata": {
        "id": "7fk_A_hpN_JB"
      },
      "outputs": [],
      "source": [
        "data.drop([\"Route\"], axis = 1, inplace = True)"
      ]
    },
    {
      "cell_type": "code",
      "execution_count": 224,
      "metadata": {
        "colab": {
          "base_uri": "https://localhost:8080/",
          "height": 522
        },
        "id": "DHiOUuEpOB10",
        "outputId": "06eb33e8-405f-4d50-f11b-32a98fa0cbe4"
      },
      "outputs": [
        {
          "output_type": "execute_result",
          "data": {
            "text/plain": [
              "           Airline    Source Destination Total_Stops Additional_Info  Price  \\\n",
              "0           IndiGo  Banglore   New Delhi           0         No info   3897   \n",
              "1        Air India   Kolkata    Banglore           2         No info   7662   \n",
              "2      Jet Airways     Delhi      Cochin           2         No info  13882   \n",
              "3           IndiGo   Kolkata    Banglore           1         No info   6218   \n",
              "4           IndiGo  Banglore   New Delhi           1         No info  13302   \n",
              "...            ...       ...         ...         ...             ...    ...   \n",
              "10678     Air Asia   Kolkata    Banglore           0         No info   4107   \n",
              "10679    Air India   Kolkata    Banglore           0         No info   4145   \n",
              "10680  Jet Airways  Banglore       Delhi           0         No info   7229   \n",
              "10681      Vistara  Banglore   New Delhi           0         No info  12648   \n",
              "10682    Air India     Delhi      Cochin           2         No info  11753   \n",
              "\n",
              "       date  month  year  hour  min  Arrival_time_hour  Arrival_time_min  \\\n",
              "0        24      3  2019    22   20                  1                10   \n",
              "1         1      5  2019     5   50                 13                15   \n",
              "2         9      6  2019     9   25                  4                25   \n",
              "3        12      5  2019    18    5                 23                30   \n",
              "4         1      3  2019    16   50                 21                35   \n",
              "...     ...    ...   ...   ...  ...                ...               ...   \n",
              "10678     9      4  2019    19   55                 22                25   \n",
              "10679    27      4  2019    20   45                 23                20   \n",
              "10680    27      4  2019     8   20                 11                20   \n",
              "10681     1      3  2019    11   30                 14                10   \n",
              "10682     9      5  2019    10   55                 19                15   \n",
              "\n",
              "      Duration_hours Duration_mins City_1 City_2 City_3  \n",
              "0                  2            50   BLR     DEL   None  \n",
              "1                  7            25   CCU    IXR    BBI   \n",
              "2                 19           NaN   DEL    LKO    BOM   \n",
              "3                  5            25   CCU    NAG     BLR  \n",
              "4                  4            45   BLR    NAG     DEL  \n",
              "...              ...           ...    ...    ...    ...  \n",
              "10678              2            30   CCU     BLR   None  \n",
              "10679              2            35   CCU     BLR   None  \n",
              "10680              3           NaN   BLR     DEL   None  \n",
              "10681              2            40   BLR     DEL   None  \n",
              "10682              8            20   DEL    GOI    BOM   \n",
              "\n",
              "[10682 rows x 18 columns]"
            ],
            "text/html": [
              "\n",
              "  <div id=\"df-4015ee61-2c87-4a43-b93e-1eb587135f5e\">\n",
              "    <div class=\"colab-df-container\">\n",
              "      <div>\n",
              "<style scoped>\n",
              "    .dataframe tbody tr th:only-of-type {\n",
              "        vertical-align: middle;\n",
              "    }\n",
              "\n",
              "    .dataframe tbody tr th {\n",
              "        vertical-align: top;\n",
              "    }\n",
              "\n",
              "    .dataframe thead th {\n",
              "        text-align: right;\n",
              "    }\n",
              "</style>\n",
              "<table border=\"1\" class=\"dataframe\">\n",
              "  <thead>\n",
              "    <tr style=\"text-align: right;\">\n",
              "      <th></th>\n",
              "      <th>Airline</th>\n",
              "      <th>Source</th>\n",
              "      <th>Destination</th>\n",
              "      <th>Total_Stops</th>\n",
              "      <th>Additional_Info</th>\n",
              "      <th>Price</th>\n",
              "      <th>date</th>\n",
              "      <th>month</th>\n",
              "      <th>year</th>\n",
              "      <th>hour</th>\n",
              "      <th>min</th>\n",
              "      <th>Arrival_time_hour</th>\n",
              "      <th>Arrival_time_min</th>\n",
              "      <th>Duration_hours</th>\n",
              "      <th>Duration_mins</th>\n",
              "      <th>City_1</th>\n",
              "      <th>City_2</th>\n",
              "      <th>City_3</th>\n",
              "    </tr>\n",
              "  </thead>\n",
              "  <tbody>\n",
              "    <tr>\n",
              "      <th>0</th>\n",
              "      <td>IndiGo</td>\n",
              "      <td>Banglore</td>\n",
              "      <td>New Delhi</td>\n",
              "      <td>0</td>\n",
              "      <td>No info</td>\n",
              "      <td>3897</td>\n",
              "      <td>24</td>\n",
              "      <td>3</td>\n",
              "      <td>2019</td>\n",
              "      <td>22</td>\n",
              "      <td>20</td>\n",
              "      <td>1</td>\n",
              "      <td>10</td>\n",
              "      <td>2</td>\n",
              "      <td>50</td>\n",
              "      <td>BLR</td>\n",
              "      <td>DEL</td>\n",
              "      <td>None</td>\n",
              "    </tr>\n",
              "    <tr>\n",
              "      <th>1</th>\n",
              "      <td>Air India</td>\n",
              "      <td>Kolkata</td>\n",
              "      <td>Banglore</td>\n",
              "      <td>2</td>\n",
              "      <td>No info</td>\n",
              "      <td>7662</td>\n",
              "      <td>1</td>\n",
              "      <td>5</td>\n",
              "      <td>2019</td>\n",
              "      <td>5</td>\n",
              "      <td>50</td>\n",
              "      <td>13</td>\n",
              "      <td>15</td>\n",
              "      <td>7</td>\n",
              "      <td>25</td>\n",
              "      <td>CCU</td>\n",
              "      <td>IXR</td>\n",
              "      <td>BBI</td>\n",
              "    </tr>\n",
              "    <tr>\n",
              "      <th>2</th>\n",
              "      <td>Jet Airways</td>\n",
              "      <td>Delhi</td>\n",
              "      <td>Cochin</td>\n",
              "      <td>2</td>\n",
              "      <td>No info</td>\n",
              "      <td>13882</td>\n",
              "      <td>9</td>\n",
              "      <td>6</td>\n",
              "      <td>2019</td>\n",
              "      <td>9</td>\n",
              "      <td>25</td>\n",
              "      <td>4</td>\n",
              "      <td>25</td>\n",
              "      <td>19</td>\n",
              "      <td>NaN</td>\n",
              "      <td>DEL</td>\n",
              "      <td>LKO</td>\n",
              "      <td>BOM</td>\n",
              "    </tr>\n",
              "    <tr>\n",
              "      <th>3</th>\n",
              "      <td>IndiGo</td>\n",
              "      <td>Kolkata</td>\n",
              "      <td>Banglore</td>\n",
              "      <td>1</td>\n",
              "      <td>No info</td>\n",
              "      <td>6218</td>\n",
              "      <td>12</td>\n",
              "      <td>5</td>\n",
              "      <td>2019</td>\n",
              "      <td>18</td>\n",
              "      <td>5</td>\n",
              "      <td>23</td>\n",
              "      <td>30</td>\n",
              "      <td>5</td>\n",
              "      <td>25</td>\n",
              "      <td>CCU</td>\n",
              "      <td>NAG</td>\n",
              "      <td>BLR</td>\n",
              "    </tr>\n",
              "    <tr>\n",
              "      <th>4</th>\n",
              "      <td>IndiGo</td>\n",
              "      <td>Banglore</td>\n",
              "      <td>New Delhi</td>\n",
              "      <td>1</td>\n",
              "      <td>No info</td>\n",
              "      <td>13302</td>\n",
              "      <td>1</td>\n",
              "      <td>3</td>\n",
              "      <td>2019</td>\n",
              "      <td>16</td>\n",
              "      <td>50</td>\n",
              "      <td>21</td>\n",
              "      <td>35</td>\n",
              "      <td>4</td>\n",
              "      <td>45</td>\n",
              "      <td>BLR</td>\n",
              "      <td>NAG</td>\n",
              "      <td>DEL</td>\n",
              "    </tr>\n",
              "    <tr>\n",
              "      <th>...</th>\n",
              "      <td>...</td>\n",
              "      <td>...</td>\n",
              "      <td>...</td>\n",
              "      <td>...</td>\n",
              "      <td>...</td>\n",
              "      <td>...</td>\n",
              "      <td>...</td>\n",
              "      <td>...</td>\n",
              "      <td>...</td>\n",
              "      <td>...</td>\n",
              "      <td>...</td>\n",
              "      <td>...</td>\n",
              "      <td>...</td>\n",
              "      <td>...</td>\n",
              "      <td>...</td>\n",
              "      <td>...</td>\n",
              "      <td>...</td>\n",
              "      <td>...</td>\n",
              "    </tr>\n",
              "    <tr>\n",
              "      <th>10678</th>\n",
              "      <td>Air Asia</td>\n",
              "      <td>Kolkata</td>\n",
              "      <td>Banglore</td>\n",
              "      <td>0</td>\n",
              "      <td>No info</td>\n",
              "      <td>4107</td>\n",
              "      <td>9</td>\n",
              "      <td>4</td>\n",
              "      <td>2019</td>\n",
              "      <td>19</td>\n",
              "      <td>55</td>\n",
              "      <td>22</td>\n",
              "      <td>25</td>\n",
              "      <td>2</td>\n",
              "      <td>30</td>\n",
              "      <td>CCU</td>\n",
              "      <td>BLR</td>\n",
              "      <td>None</td>\n",
              "    </tr>\n",
              "    <tr>\n",
              "      <th>10679</th>\n",
              "      <td>Air India</td>\n",
              "      <td>Kolkata</td>\n",
              "      <td>Banglore</td>\n",
              "      <td>0</td>\n",
              "      <td>No info</td>\n",
              "      <td>4145</td>\n",
              "      <td>27</td>\n",
              "      <td>4</td>\n",
              "      <td>2019</td>\n",
              "      <td>20</td>\n",
              "      <td>45</td>\n",
              "      <td>23</td>\n",
              "      <td>20</td>\n",
              "      <td>2</td>\n",
              "      <td>35</td>\n",
              "      <td>CCU</td>\n",
              "      <td>BLR</td>\n",
              "      <td>None</td>\n",
              "    </tr>\n",
              "    <tr>\n",
              "      <th>10680</th>\n",
              "      <td>Jet Airways</td>\n",
              "      <td>Banglore</td>\n",
              "      <td>Delhi</td>\n",
              "      <td>0</td>\n",
              "      <td>No info</td>\n",
              "      <td>7229</td>\n",
              "      <td>27</td>\n",
              "      <td>4</td>\n",
              "      <td>2019</td>\n",
              "      <td>8</td>\n",
              "      <td>20</td>\n",
              "      <td>11</td>\n",
              "      <td>20</td>\n",
              "      <td>3</td>\n",
              "      <td>NaN</td>\n",
              "      <td>BLR</td>\n",
              "      <td>DEL</td>\n",
              "      <td>None</td>\n",
              "    </tr>\n",
              "    <tr>\n",
              "      <th>10681</th>\n",
              "      <td>Vistara</td>\n",
              "      <td>Banglore</td>\n",
              "      <td>New Delhi</td>\n",
              "      <td>0</td>\n",
              "      <td>No info</td>\n",
              "      <td>12648</td>\n",
              "      <td>1</td>\n",
              "      <td>3</td>\n",
              "      <td>2019</td>\n",
              "      <td>11</td>\n",
              "      <td>30</td>\n",
              "      <td>14</td>\n",
              "      <td>10</td>\n",
              "      <td>2</td>\n",
              "      <td>40</td>\n",
              "      <td>BLR</td>\n",
              "      <td>DEL</td>\n",
              "      <td>None</td>\n",
              "    </tr>\n",
              "    <tr>\n",
              "      <th>10682</th>\n",
              "      <td>Air India</td>\n",
              "      <td>Delhi</td>\n",
              "      <td>Cochin</td>\n",
              "      <td>2</td>\n",
              "      <td>No info</td>\n",
              "      <td>11753</td>\n",
              "      <td>9</td>\n",
              "      <td>5</td>\n",
              "      <td>2019</td>\n",
              "      <td>10</td>\n",
              "      <td>55</td>\n",
              "      <td>19</td>\n",
              "      <td>15</td>\n",
              "      <td>8</td>\n",
              "      <td>20</td>\n",
              "      <td>DEL</td>\n",
              "      <td>GOI</td>\n",
              "      <td>BOM</td>\n",
              "    </tr>\n",
              "  </tbody>\n",
              "</table>\n",
              "<p>10682 rows × 18 columns</p>\n",
              "</div>\n",
              "      <button class=\"colab-df-convert\" onclick=\"convertToInteractive('df-4015ee61-2c87-4a43-b93e-1eb587135f5e')\"\n",
              "              title=\"Convert this dataframe to an interactive table.\"\n",
              "              style=\"display:none;\">\n",
              "        \n",
              "  <svg xmlns=\"http://www.w3.org/2000/svg\" height=\"24px\"viewBox=\"0 0 24 24\"\n",
              "       width=\"24px\">\n",
              "    <path d=\"M0 0h24v24H0V0z\" fill=\"none\"/>\n",
              "    <path d=\"M18.56 5.44l.94 2.06.94-2.06 2.06-.94-2.06-.94-.94-2.06-.94 2.06-2.06.94zm-11 1L8.5 8.5l.94-2.06 2.06-.94-2.06-.94L8.5 2.5l-.94 2.06-2.06.94zm10 10l.94 2.06.94-2.06 2.06-.94-2.06-.94-.94-2.06-.94 2.06-2.06.94z\"/><path d=\"M17.41 7.96l-1.37-1.37c-.4-.4-.92-.59-1.43-.59-.52 0-1.04.2-1.43.59L10.3 9.45l-7.72 7.72c-.78.78-.78 2.05 0 2.83L4 21.41c.39.39.9.59 1.41.59.51 0 1.02-.2 1.41-.59l7.78-7.78 2.81-2.81c.8-.78.8-2.07 0-2.86zM5.41 20L4 18.59l7.72-7.72 1.47 1.35L5.41 20z\"/>\n",
              "  </svg>\n",
              "      </button>\n",
              "      \n",
              "  <style>\n",
              "    .colab-df-container {\n",
              "      display:flex;\n",
              "      flex-wrap:wrap;\n",
              "      gap: 12px;\n",
              "    }\n",
              "\n",
              "    .colab-df-convert {\n",
              "      background-color: #E8F0FE;\n",
              "      border: none;\n",
              "      border-radius: 50%;\n",
              "      cursor: pointer;\n",
              "      display: none;\n",
              "      fill: #1967D2;\n",
              "      height: 32px;\n",
              "      padding: 0 0 0 0;\n",
              "      width: 32px;\n",
              "    }\n",
              "\n",
              "    .colab-df-convert:hover {\n",
              "      background-color: #E2EBFA;\n",
              "      box-shadow: 0px 1px 2px rgba(60, 64, 67, 0.3), 0px 1px 3px 1px rgba(60, 64, 67, 0.15);\n",
              "      fill: #174EA6;\n",
              "    }\n",
              "\n",
              "    [theme=dark] .colab-df-convert {\n",
              "      background-color: #3B4455;\n",
              "      fill: #D2E3FC;\n",
              "    }\n",
              "\n",
              "    [theme=dark] .colab-df-convert:hover {\n",
              "      background-color: #434B5C;\n",
              "      box-shadow: 0px 1px 3px 1px rgba(0, 0, 0, 0.15);\n",
              "      filter: drop-shadow(0px 1px 2px rgba(0, 0, 0, 0.3));\n",
              "      fill: #FFFFFF;\n",
              "    }\n",
              "  </style>\n",
              "\n",
              "      <script>\n",
              "        const buttonEl =\n",
              "          document.querySelector('#df-4015ee61-2c87-4a43-b93e-1eb587135f5e button.colab-df-convert');\n",
              "        buttonEl.style.display =\n",
              "          google.colab.kernel.accessAllowed ? 'block' : 'none';\n",
              "\n",
              "        async function convertToInteractive(key) {\n",
              "          const element = document.querySelector('#df-4015ee61-2c87-4a43-b93e-1eb587135f5e');\n",
              "          const dataTable =\n",
              "            await google.colab.kernel.invokeFunction('convertToInteractive',\n",
              "                                                     [key], {});\n",
              "          if (!dataTable) return;\n",
              "\n",
              "          const docLinkHtml = 'Like what you see? Visit the ' +\n",
              "            '<a target=\"_blank\" href=https://colab.research.google.com/notebooks/data_table.ipynb>data table notebook</a>'\n",
              "            + ' to learn more about interactive tables.';\n",
              "          element.innerHTML = '';\n",
              "          dataTable['output_type'] = 'display_data';\n",
              "          await google.colab.output.renderOutput(dataTable, element);\n",
              "          const docLink = document.createElement('div');\n",
              "          docLink.innerHTML = docLinkHtml;\n",
              "          element.appendChild(docLink);\n",
              "        }\n",
              "      </script>\n",
              "    </div>\n",
              "  </div>\n",
              "  "
            ]
          },
          "metadata": {},
          "execution_count": 224
        }
      ],
      "source": [
        "data"
      ]
    },
    {
      "cell_type": "markdown",
      "source": [
        "Countplot for categorical data"
      ],
      "metadata": {
        "id": "H2XvaoRMu7N8"
      }
    },
    {
      "cell_type": "code",
      "source": [
        "categorical_list = ['Airline', 'Source', 'Destination', 'Additional_Info', 'City_1', 'City_2', 'City_3']\n",
        "p = 1\n",
        "plt.figure(figsize=(15,35))\n",
        "for i in categorical_list:\n",
        "  plt.subplot(6,3,p)\n",
        "  sns.countplot(data[i])\n",
        "  plt.xticks(rotation = 90)\n",
        "  plt.tight_layout(pad = 3.0)\n",
        "  p=p+1\n",
        "\n",
        "plt.show()"
      ],
      "metadata": {
        "colab": {
          "base_uri": "https://localhost:8080/",
          "height": 1000
        },
        "id": "bFuGGaDbvAR0",
        "outputId": "1b97dbdf-b0e9-45ee-8352-90e2f11a7525"
      },
      "execution_count": 225,
      "outputs": [
        {
          "output_type": "stream",
          "name": "stderr",
          "text": [
            "/usr/local/lib/python3.7/dist-packages/seaborn/_decorators.py:43: FutureWarning: Pass the following variable as a keyword arg: x. From version 0.12, the only valid positional argument will be `data`, and passing other arguments without an explicit keyword will result in an error or misinterpretation.\n",
            "  FutureWarning\n",
            "/usr/local/lib/python3.7/dist-packages/seaborn/_decorators.py:43: FutureWarning: Pass the following variable as a keyword arg: x. From version 0.12, the only valid positional argument will be `data`, and passing other arguments without an explicit keyword will result in an error or misinterpretation.\n",
            "  FutureWarning\n",
            "/usr/local/lib/python3.7/dist-packages/seaborn/_decorators.py:43: FutureWarning: Pass the following variable as a keyword arg: x. From version 0.12, the only valid positional argument will be `data`, and passing other arguments without an explicit keyword will result in an error or misinterpretation.\n",
            "  FutureWarning\n",
            "/usr/local/lib/python3.7/dist-packages/seaborn/_decorators.py:43: FutureWarning: Pass the following variable as a keyword arg: x. From version 0.12, the only valid positional argument will be `data`, and passing other arguments without an explicit keyword will result in an error or misinterpretation.\n",
            "  FutureWarning\n",
            "/usr/local/lib/python3.7/dist-packages/seaborn/_decorators.py:43: FutureWarning: Pass the following variable as a keyword arg: x. From version 0.12, the only valid positional argument will be `data`, and passing other arguments without an explicit keyword will result in an error or misinterpretation.\n",
            "  FutureWarning\n",
            "/usr/local/lib/python3.7/dist-packages/seaborn/_decorators.py:43: FutureWarning: Pass the following variable as a keyword arg: x. From version 0.12, the only valid positional argument will be `data`, and passing other arguments without an explicit keyword will result in an error or misinterpretation.\n",
            "  FutureWarning\n",
            "/usr/local/lib/python3.7/dist-packages/seaborn/_decorators.py:43: FutureWarning: Pass the following variable as a keyword arg: x. From version 0.12, the only valid positional argument will be `data`, and passing other arguments without an explicit keyword will result in an error or misinterpretation.\n",
            "  FutureWarning\n"
          ]
        },
        {
          "output_type": "display_data",
          "data": {
            "text/plain": [
              "<Figure size 1080x2520 with 7 Axes>"
            ],
            "image/png": "[encoded data removed]"
          },
          "metadata": {
            "needs_background": "light"
          }
        }
      ]
    },
    {
      "cell_type": "markdown",
      "source": [
        "Label encoding for categorical data"
      ],
      "metadata": {
        "id": "2yZlqcOXrKL9"
      }
    },
    {
      "cell_type": "code",
      "execution_count": 226,
      "metadata": {
        "id": "zAFdBZvLRKJD"
      },
      "outputs": [],
      "source": [
        "from sklearn.preprocessing import LabelEncoder\n",
        "lable = LabelEncoder()\n",
        "data['Airline'] = lable.fit_transform(data['Airline'])\n",
        "data['Source'] = lable.fit_transform(data['Source'])\n",
        "data['Destination'] = lable.fit_transform(data['Destination'])\n",
        "data['Additional_Info'] = lable.fit_transform(data['Additional_Info'])\n",
        "data['City_1'] = lable.fit_transform(data['City_1'])\n",
        "data['City_2'] = lable.fit_transform(data['City_2'])\n",
        "data['City_3'] = lable.fit_transform(data['City_3'])"
      ]
    },
    {
      "cell_type": "code",
      "execution_count": 227,
      "metadata": {
        "colab": {
          "base_uri": "https://localhost:8080/"
        },
        "id": "gVGnkO4wmxK-",
        "outputId": "46b63aa7-a03d-4539-c730-f024fb5f2d7e"
      },
      "outputs": [
        {
          "output_type": "stream",
          "name": "stdout",
          "text": [
            "<class 'pandas.core.frame.DataFrame'>\n",
            "Int64Index: 10682 entries, 0 to 10682\n",
            "Data columns (total 18 columns):\n",
            " #   Column             Non-Null Count  Dtype \n",
            "---  ------             --------------  ----- \n",
            " 0   Airline            10682 non-null  int64 \n",
            " 1   Source             10682 non-null  int64 \n",
            " 2   Destination        10682 non-null  int64 \n",
            " 3   Total_Stops        10682 non-null  object\n",
            " 4   Additional_Info    10682 non-null  int64 \n",
            " 5   Price              10682 non-null  int64 \n",
            " 6   date               10682 non-null  int64 \n",
            " 7   month              10682 non-null  int64 \n",
            " 8   year               10682 non-null  int64 \n",
            " 9   hour               10682 non-null  int64 \n",
            " 10  min                10682 non-null  int64 \n",
            " 11  Arrival_time_hour  10682 non-null  int64 \n",
            " 12  Arrival_time_min   10682 non-null  int64 \n",
            " 13  Duration_hours     10682 non-null  object\n",
            " 14  Duration_mins      9650 non-null   object\n",
            " 15  City_1             10682 non-null  int64 \n",
            " 16  City_2             10682 non-null  int64 \n",
            " 17  City_3             10682 non-null  int64 \n",
            "dtypes: int64(15), object(3)\n",
            "memory usage: 1.8+ MB\n"
          ]
        }
      ],
      "source": [
        "data.info()"
      ]
    },
    {
      "cell_type": "code",
      "execution_count": 228,
      "metadata": {
        "colab": {
          "base_uri": "https://localhost:8080/",
          "height": 144
        },
        "id": "9lVRkyxvPMcM",
        "outputId": "4aa44be1-80cb-4e69-955e-c4b5f1db7b58"
      },
      "outputs": [
        {
          "output_type": "execute_result",
          "data": {
            "text/plain": [
              "      Airline  Source  Destination Total_Stops  Additional_Info  Price  date  \\\n",
              "6474        1       4            3           2                8  17327     6   \n",
              "\n",
              "      month  year  hour  min  Arrival_time_hour  Arrival_time_min  \\\n",
              "6474      3  2019    16   50                 16                55   \n",
              "\n",
              "     Duration_hours Duration_mins  City_1  City_2  City_3  \n",
              "6474             5m           NaN       1      16      24  "
            ],
            "text/html": [
              "\n",
              "  <div id=\"df-adac68b3-bfd4-4943-8025-5dc276c41e07\">\n",
              "    <div class=\"colab-df-container\">\n",
              "      <div>\n",
              "<style scoped>\n",
              "    .dataframe tbody tr th:only-of-type {\n",
              "        vertical-align: middle;\n",
              "    }\n",
              "\n",
              "    .dataframe tbody tr th {\n",
              "        vertical-align: top;\n",
              "    }\n",
              "\n",
              "    .dataframe thead th {\n",
              "        text-align: right;\n",
              "    }\n",
              "</style>\n",
              "<table border=\"1\" class=\"dataframe\">\n",
              "  <thead>\n",
              "    <tr style=\"text-align: right;\">\n",
              "      <th></th>\n",
              "      <th>Airline</th>\n",
              "      <th>Source</th>\n",
              "      <th>Destination</th>\n",
              "      <th>Total_Stops</th>\n",
              "      <th>Additional_Info</th>\n",
              "      <th>Price</th>\n",
              "      <th>date</th>\n",
              "      <th>month</th>\n",
              "      <th>year</th>\n",
              "      <th>hour</th>\n",
              "      <th>min</th>\n",
              "      <th>Arrival_time_hour</th>\n",
              "      <th>Arrival_time_min</th>\n",
              "      <th>Duration_hours</th>\n",
              "      <th>Duration_mins</th>\n",
              "      <th>City_1</th>\n",
              "      <th>City_2</th>\n",
              "      <th>City_3</th>\n",
              "    </tr>\n",
              "  </thead>\n",
              "  <tbody>\n",
              "    <tr>\n",
              "      <th>6474</th>\n",
              "      <td>1</td>\n",
              "      <td>4</td>\n",
              "      <td>3</td>\n",
              "      <td>2</td>\n",
              "      <td>8</td>\n",
              "      <td>17327</td>\n",
              "      <td>6</td>\n",
              "      <td>3</td>\n",
              "      <td>2019</td>\n",
              "      <td>16</td>\n",
              "      <td>50</td>\n",
              "      <td>16</td>\n",
              "      <td>55</td>\n",
              "      <td>5m</td>\n",
              "      <td>NaN</td>\n",
              "      <td>1</td>\n",
              "      <td>16</td>\n",
              "      <td>24</td>\n",
              "    </tr>\n",
              "  </tbody>\n",
              "</table>\n",
              "</div>\n",
              "      <button class=\"colab-df-convert\" onclick=\"convertToInteractive('df-adac68b3-bfd4-4943-8025-5dc276c41e07')\"\n",
              "              title=\"Convert this dataframe to an interactive table.\"\n",
              "              style=\"display:none;\">\n",
              "        \n",
              "  <svg xmlns=\"http://www.w3.org/2000/svg\" height=\"24px\"viewBox=\"0 0 24 24\"\n",
              "       width=\"24px\">\n",
              "    <path d=\"M0 0h24v24H0V0z\" fill=\"none\"/>\n",
              "    <path d=\"M18.56 5.44l.94 2.06.94-2.06 2.06-.94-2.06-.94-.94-2.06-.94 2.06-2.06.94zm-11 1L8.5 8.5l.94-2.06 2.06-.94-2.06-.94L8.5 2.5l-.94 2.06-2.06.94zm10 10l.94 2.06.94-2.06 2.06-.94-2.06-.94-.94-2.06-.94 2.06-2.06.94z\"/><path d=\"M17.41 7.96l-1.37-1.37c-.4-.4-.92-.59-1.43-.59-.52 0-1.04.2-1.43.59L10.3 9.45l-7.72 7.72c-.78.78-.78 2.05 0 2.83L4 21.41c.39.39.9.59 1.41.59.51 0 1.02-.2 1.41-.59l7.78-7.78 2.81-2.81c.8-.78.8-2.07 0-2.86zM5.41 20L4 18.59l7.72-7.72 1.47 1.35L5.41 20z\"/>\n",
              "  </svg>\n",
              "      </button>\n",
              "      \n",
              "  <style>\n",
              "    .colab-df-container {\n",
              "      display:flex;\n",
              "      flex-wrap:wrap;\n",
              "      gap: 12px;\n",
              "    }\n",
              "\n",
              "    .colab-df-convert {\n",
              "      background-color: #E8F0FE;\n",
              "      border: none;\n",
              "      border-radius: 50%;\n",
              "      cursor: pointer;\n",
              "      display: none;\n",
              "      fill: #1967D2;\n",
              "      height: 32px;\n",
              "      padding: 0 0 0 0;\n",
              "      width: 32px;\n",
              "    }\n",
              "\n",
              "    .colab-df-convert:hover {\n",
              "      background-color: #E2EBFA;\n",
              "      box-shadow: 0px 1px 2px rgba(60, 64, 67, 0.3), 0px 1px 3px 1px rgba(60, 64, 67, 0.15);\n",
              "      fill: #174EA6;\n",
              "    }\n",
              "\n",
              "    [theme=dark] .colab-df-convert {\n",
              "      background-color: #3B4455;\n",
              "      fill: #D2E3FC;\n",
              "    }\n",
              "\n",
              "    [theme=dark] .colab-df-convert:hover {\n",
              "      background-color: #434B5C;\n",
              "      box-shadow: 0px 1px 3px 1px rgba(0, 0, 0, 0.15);\n",
              "      filter: drop-shadow(0px 1px 2px rgba(0, 0, 0, 0.3));\n",
              "      fill: #FFFFFF;\n",
              "    }\n",
              "  </style>\n",
              "\n",
              "      <script>\n",
              "        const buttonEl =\n",
              "          document.querySelector('#df-adac68b3-bfd4-4943-8025-5dc276c41e07 button.colab-df-convert');\n",
              "        buttonEl.style.display =\n",
              "          google.colab.kernel.accessAllowed ? 'block' : 'none';\n",
              "\n",
              "        async function convertToInteractive(key) {\n",
              "          const element = document.querySelector('#df-adac68b3-bfd4-4943-8025-5dc276c41e07');\n",
              "          const dataTable =\n",
              "            await google.colab.kernel.invokeFunction('convertToInteractive',\n",
              "                                                     [key], {});\n",
              "          if (!dataTable) return;\n",
              "\n",
              "          const docLinkHtml = 'Like what you see? Visit the ' +\n",
              "            '<a target=\"_blank\" href=https://colab.research.google.com/notebooks/data_table.ipynb>data table notebook</a>'\n",
              "            + ' to learn more about interactive tables.';\n",
              "          element.innerHTML = '';\n",
              "          dataTable['output_type'] = 'display_data';\n",
              "          await google.colab.output.renderOutput(dataTable, element);\n",
              "          const docLink = document.createElement('div');\n",
              "          docLink.innerHTML = docLinkHtml;\n",
              "          element.appendChild(docLink);\n",
              "        }\n",
              "      </script>\n",
              "    </div>\n",
              "  </div>\n",
              "  "
            ]
          },
          "metadata": {},
          "execution_count": 228
        }
      ],
      "source": [
        "#This step is used because when we change the data type of Duration_hours to integer , it gives error because of this value\n",
        "\n",
        "data[data['Duration_hours']=='5m']"
      ]
    },
    {
      "cell_type": "code",
      "execution_count": 229,
      "metadata": {
        "id": "HWQ8OxyfPaL3"
      },
      "outputs": [],
      "source": [
        "data.drop(index=6474, inplace = True, axis=0) #dropping that row from the data"
      ]
    },
    {
      "cell_type": "code",
      "execution_count": 230,
      "metadata": {
        "id": "IAYxVNiLP7r7"
      },
      "outputs": [],
      "source": [
        "data['Duration_mins'].fillna(0,inplace = True) #filling the nan values in Duration_mins by 0"
      ]
    },
    {
      "cell_type": "code",
      "execution_count": 231,
      "metadata": {
        "id": "mGezZlF4OhD2"
      },
      "outputs": [],
      "source": [
        "data.Total_Stops = data.Total_Stops.astype('int64')\n",
        "data.Duration_hours = data.Duration_hours.astype('int64')\n",
        "data.Duration_mins = data.Duration_mins.astype('int64')"
      ]
    },
    {
      "cell_type": "code",
      "execution_count": 232,
      "metadata": {
        "colab": {
          "base_uri": "https://localhost:8080/"
        },
        "id": "oZDxAsreQIqX",
        "outputId": "b0d15c81-5512-4ce0-930d-6a82b53debd5"
      },
      "outputs": [
        {
          "output_type": "stream",
          "name": "stdout",
          "text": [
            "<class 'pandas.core.frame.DataFrame'>\n",
            "Int64Index: 10681 entries, 0 to 10682\n",
            "Data columns (total 18 columns):\n",
            " #   Column             Non-Null Count  Dtype\n",
            "---  ------             --------------  -----\n",
            " 0   Airline            10681 non-null  int64\n",
            " 1   Source             10681 non-null  int64\n",
            " 2   Destination        10681 non-null  int64\n",
            " 3   Total_Stops        10681 non-null  int64\n",
            " 4   Additional_Info    10681 non-null  int64\n",
            " 5   Price              10681 non-null  int64\n",
            " 6   date               10681 non-null  int64\n",
            " 7   month              10681 non-null  int64\n",
            " 8   year               10681 non-null  int64\n",
            " 9   hour               10681 non-null  int64\n",
            " 10  min                10681 non-null  int64\n",
            " 11  Arrival_time_hour  10681 non-null  int64\n",
            " 12  Arrival_time_min   10681 non-null  int64\n",
            " 13  Duration_hours     10681 non-null  int64\n",
            " 14  Duration_mins      10681 non-null  int64\n",
            " 15  City_1             10681 non-null  int64\n",
            " 16  City_2             10681 non-null  int64\n",
            " 17  City_3             10681 non-null  int64\n",
            "dtypes: int64(18)\n",
            "memory usage: 1.5 MB\n"
          ]
        }
      ],
      "source": [
        "#Checking if all features are integer type or not\n",
        "\n",
        "data.info()"
      ]
    },
    {
      "cell_type": "code",
      "source": [
        "plt.figure(figsize=(10,6))\n",
        "sns.distplot(data.Price)"
      ],
      "metadata": {
        "colab": {
          "base_uri": "https://localhost:8080/",
          "height": 462
        },
        "id": "qXk1h1Ftwx3K",
        "outputId": "3ea51390-4218-4bfe-9eb2-6d3cb3a5731f"
      },
      "execution_count": 233,
      "outputs": [
        {
          "output_type": "stream",
          "name": "stderr",
          "text": [
            "/usr/local/lib/python3.7/dist-packages/seaborn/distributions.py:2619: FutureWarning: `distplot` is a deprecated function and will be removed in a future version. Please adapt your code to use either `displot` (a figure-level function with similar flexibility) or `histplot` (an axes-level function for histograms).\n",
            "  warnings.warn(msg, FutureWarning)\n"
          ]
        },
        {
          "output_type": "execute_result",
          "data": {
            "text/plain": [
              "<matplotlib.axes._subplots.AxesSubplot at 0x7f564e6e1910>"
            ]
          },
          "metadata": {},
          "execution_count": 233
        },
        {
          "output_type": "display_data",
          "data": {
            "text/plain": [
              "<Figure size 720x432 with 1 Axes>"
            ],
            "image/png": "[encoded data removed]"
          },
          "metadata": {
            "needs_background": "light"
          }
        }
      ]
    },
    {
      "cell_type": "markdown",
      "metadata": {
        "id": "DmCykyaYn2Mb"
      },
      "source": [
        "## Feature selection"
      ]
    },
    {
      "cell_type": "code",
      "execution_count": 234,
      "metadata": {
        "id": "HaKGA6Xzn5Nt"
      },
      "outputs": [],
      "source": [
        "X = data.loc[:,data.columns!='Price']\n",
        "y = data.loc[:,'Price']"
      ]
    },
    {
      "cell_type": "code",
      "execution_count": 275,
      "metadata": {
        "colab": {
          "base_uri": "https://localhost:8080/",
          "height": 674
        },
        "id": "mksVqSePqItk",
        "outputId": "05d84684-888e-4778-cfb7-d41590037d23"
      },
      "outputs": [
        {
          "output_type": "display_data",
          "data": {
            "text/plain": [
              "<Figure size 720x720 with 2 Axes>"
            ],
            "image/png": "[encoded data removed]"
          },
          "metadata": {
            "needs_background": "light"
          }
        }
      ],
      "source": [
        "plt.figure(figsize = (10,10))\n",
        "sns.heatmap(data.corr(), annot = True, cmap = \"RdYlGn\")\n",
        "\n",
        "plt.show()"
      ]
    },
    {
      "cell_type": "code",
      "execution_count": 236,
      "metadata": {
        "colab": {
          "base_uri": "https://localhost:8080/"
        },
        "id": "dvI_T5z8qLhG",
        "outputId": "f357e0e7-30d5-4625-cd10-fa42f2ef7eb7"
      },
      "outputs": [
        {
          "output_type": "execute_result",
          "data": {
            "text/plain": [
              "ExtraTreesRegressor()"
            ]
          },
          "metadata": {},
          "execution_count": 236
        }
      ],
      "source": [
        "#feature selection is used to check the importance of particular column\n",
        "from sklearn.ensemble import ExtraTreesRegressor\n",
        "selection = ExtraTreesRegressor()\n",
        "selection.fit(X, y)"
      ]
    },
    {
      "cell_type": "code",
      "execution_count": 237,
      "metadata": {
        "colab": {
          "base_uri": "https://localhost:8080/",
          "height": 483
        },
        "id": "6qQSS_PHqR2o",
        "outputId": "703df8a3-ecce-4422-baa7-4cba94ea5354"
      },
      "outputs": [
        {
          "output_type": "display_data",
          "data": {
            "text/plain": [
              "<Figure size 864x576 with 1 Axes>"
            ],
            "image/png": "[encoded data removed]"
          },
          "metadata": {
            "needs_background": "light"
          }
        }
      ],
      "source": [
        "plt.figure(figsize = (12,8))\n",
        "feat_importances = pd.Series(selection.feature_importances_, index=X.columns)\n",
        "feat_importances.nlargest(20).plot(kind='barh')\n",
        "plt.show()"
      ]
    },
    {
      "cell_type": "markdown",
      "source": [
        "Train-test data split"
      ],
      "metadata": {
        "id": "xrxFUNcGsGlN"
      }
    },
    {
      "cell_type": "code",
      "execution_count": 238,
      "metadata": {
        "id": "F7oRlqdzhmX8"
      },
      "outputs": [],
      "source": [
        "from sklearn.model_selection import train_test_split\n",
        "X_train, X_test, y_train, y_test = train_test_split(X, y, test_size = 0.3, random_state = 42)"
      ]
    },
    {
      "cell_type": "markdown",
      "metadata": {
        "id": "eRgKGmjgFLaU"
      },
      "source": [
        "## Feature reduction"
      ]
    },
    {
      "cell_type": "code",
      "execution_count": 239,
      "metadata": {
        "id": "FgmcxM29FNet"
      },
      "outputs": [],
      "source": [
        "#Checking if feature reduction will give good result or not\n",
        "from sklearn.ensemble import RandomForestRegressor\n",
        "from sklearn.decomposition import PCA\n",
        "randomforest = RandomForestRegressor(random_state=0)\n",
        "score_for_pca = []\n",
        "index_for_pca = []\n",
        "for i in range(1,10):\n",
        "  index_for_pca.append(i)\n",
        "  pca = PCA(n_components=i)\n",
        "  X_train_reduced = pca.fit_transform(X_train)\n",
        "  X_test_reduced = pca.transform(X_test)\n",
        "  randomforest.fit(X_train_reduced, y_train)\n",
        "  y_pred_reduced = randomforest.predict(X_test_reduced)\n",
        "  m = metrics.r2_score(y_test, y_pred_reduced)\n",
        "  score_for_pca.append(m)"
      ]
    },
    {
      "cell_type": "code",
      "execution_count": 240,
      "metadata": {
        "colab": {
          "base_uri": "https://localhost:8080/",
          "height": 295
        },
        "id": "JVlPO-dPGxKe",
        "outputId": "1567e698-8c5a-4c4b-f3a4-135135e68689"
      },
      "outputs": [
        {
          "output_type": "display_data",
          "data": {
            "text/plain": [
              "<Figure size 432x288 with 1 Axes>"
            ],
            "image/png": "[encoded data removed]"
          },
          "metadata": {
            "needs_background": "light"
          }
        }
      ],
      "source": [
        "plt.plot(index_for_pca, score_for_pca)\n",
        "plt.title('No. of features vs R2_score')\n",
        "plt.xlabel('Number of Features')\n",
        "plt.ylabel('R2_score') \n",
        "plt.show()"
      ]
    },
    {
      "cell_type": "markdown",
      "metadata": {
        "id": "hJKamw7HFlbB"
      },
      "source": [
        "## Random Forest Regressor"
      ]
    },
    {
      "cell_type": "code",
      "execution_count": 241,
      "metadata": {
        "colab": {
          "base_uri": "https://localhost:8080/"
        },
        "id": "4hACw43ghpUt",
        "outputId": "95fc14e0-7d2a-40be-a7c4-20f532c5442b"
      },
      "outputs": [
        {
          "output_type": "execute_result",
          "data": {
            "text/plain": [
              "RandomForestRegressor(random_state=0)"
            ]
          },
          "metadata": {},
          "execution_count": 241
        }
      ],
      "source": [
        "from sklearn.ensemble import RandomForestRegressor\n",
        "randomforest = RandomForestRegressor(random_state=0)\n",
        "randomforest.fit(X_train, y_train)"
      ]
    },
    {
      "cell_type": "code",
      "execution_count": 242,
      "metadata": {
        "id": "AwcF3kaDhrtZ"
      },
      "outputs": [],
      "source": [
        "y_pred = randomforest.predict(X_test)"
      ]
    },
    {
      "cell_type": "code",
      "execution_count": 243,
      "metadata": {
        "colab": {
          "base_uri": "https://localhost:8080/"
        },
        "id": "LnTod6KSjGpk",
        "outputId": "b0c0382f-143c-48f9-8269-ed568611e8cc"
      },
      "outputs": [
        {
          "output_type": "stream",
          "name": "stdout",
          "text": [
            "R2 Score for Random Forest Regressor model(For Training Data) :-  0.9799358001157015\n",
            "R2 Score for Random Forest Regressor model(For Testing Data) :-  0.8774599023395623\n",
            "Mean absolute error for Random Forest Regressor model :-  637.2354845005661\n",
            "Mean squared error for Random Forest Regressor model :-  2601045.484837802\n",
            "Root mean squared error for Random Forest Regressor model :-  1612.775708162112\n"
          ]
        }
      ],
      "source": [
        "from sklearn import metrics\n",
        "print(\"R2 Score for Random Forest Regressor model(For Training Data) :- \", metrics.r2_score(y_train, randomforest.predict(X_train)))\n",
        "print(\"R2 Score for Random Forest Regressor model(For Testing Data) :- \", metrics.r2_score(y_test, y_pred))\n",
        "print(\"Mean absolute error for Random Forest Regressor model :- \", metrics.mean_absolute_error(y_test, y_pred))\n",
        "print(\"Mean squared error for Random Forest Regressor model :- \", metrics.mean_squared_error(y_test, y_pred))\n",
        "print(\"Root mean squared error for Random Forest Regressor model :- \", metrics.mean_squared_error(y_test, y_pred, squared=False))\n"
      ]
    },
    {
      "cell_type": "code",
      "source": [
        ""
      ],
      "metadata": {
        "id": "034bwRNiJrLs"
      },
      "execution_count": 243,
      "outputs": []
    },
    {
      "cell_type": "markdown",
      "metadata": {
        "id": "9rRphK9lGMwT"
      },
      "source": [
        "## Linear Regression"
      ]
    },
    {
      "cell_type": "code",
      "execution_count": 244,
      "metadata": {
        "colab": {
          "base_uri": "https://localhost:8080/"
        },
        "id": "XoQiFgXnGQY6",
        "outputId": "e989ca41-1e02-4405-8641-b296da670e65"
      },
      "outputs": [
        {
          "output_type": "execute_result",
          "data": {
            "text/plain": [
              "LinearRegression()"
            ]
          },
          "metadata": {},
          "execution_count": 244
        }
      ],
      "source": [
        "from sklearn.linear_model import LinearRegression\n",
        "linearreg = LinearRegression()\n",
        "linearreg.fit(X_train, y_train)"
      ]
    },
    {
      "cell_type": "code",
      "execution_count": 245,
      "metadata": {
        "id": "4OxZZC1MJ1Kg"
      },
      "outputs": [],
      "source": [
        "y_pred_lin = linearreg.predict(X_test)"
      ]
    },
    {
      "cell_type": "code",
      "execution_count": 246,
      "metadata": {
        "colab": {
          "base_uri": "https://localhost:8080/"
        },
        "id": "YPf-hY9UKHQ8",
        "outputId": "4e5bbdf2-bfba-47a7-aaf9-98cc8d99e893"
      },
      "outputs": [
        {
          "output_type": "stream",
          "name": "stdout",
          "text": [
            "R2 Score for Linear Regression model(For Training Data) :-  0.49050820612987833\n",
            "R2 Score for Linear Regression model(For Testing Data) :-  0.5142388318738056\n",
            "Mean absolute error for Linear Regressor model :-  2243.5973725799204\n",
            "Mean squared error for Linear Regressor model :-  10310803.705782369\n",
            "Root mean squared error for Linear Regressor model :-  3211.044021152991\n"
          ]
        }
      ],
      "source": [
        "from sklearn import metrics\n",
        "print(\"R2 Score for Linear Regression model(For Training Data) :- \", metrics.r2_score(y_train, linearreg.predict(X_train)))\n",
        "print(\"R2 Score for Linear Regression model(For Testing Data) :- \", metrics.r2_score(y_test, y_pred_lin))\n",
        "print(\"Mean absolute error for Linear Regressor model :- \", metrics.mean_absolute_error(y_test, y_pred_lin))\n",
        "print(\"Mean squared error for Linear Regressor model :- \", metrics.mean_squared_error(y_test, y_pred_lin))\n",
        "print(\"Root mean squared error for Linear Regressor model :- \", metrics.mean_squared_error(y_test, y_pred_lin, squared=False))"
      ]
    },
    {
      "cell_type": "markdown",
      "metadata": {
        "id": "eEYPxlQ0G_Z_"
      },
      "source": [
        "## Decision tree regressor"
      ]
    },
    {
      "cell_type": "code",
      "execution_count": 247,
      "metadata": {
        "colab": {
          "base_uri": "https://localhost:8080/"
        },
        "id": "bi6DgTMuKLxP",
        "outputId": "4f0ba9b8-d351-4819-f5d9-e7cb4d49d130"
      },
      "outputs": [
        {
          "output_type": "execute_result",
          "data": {
            "text/plain": [
              "DecisionTreeRegressor(random_state=0)"
            ]
          },
          "metadata": {},
          "execution_count": 247
        }
      ],
      "source": [
        "from sklearn.tree import DecisionTreeRegressor\n",
        "tree = DecisionTreeRegressor(random_state = 0)\n",
        "tree.fit(X_train, y_train)"
      ]
    },
    {
      "cell_type": "code",
      "execution_count": 248,
      "metadata": {
        "id": "J3-jgFSmKegO"
      },
      "outputs": [],
      "source": [
        "y_pred_tree = tree.predict(X_test)"
      ]
    },
    {
      "cell_type": "code",
      "source": [
        "print(\"R2 Score for Decision Tree Regression model(For Training Data) :- \", metrics.r2_score(y_train, tree.predict(X_train)))\n",
        "print(\"R2 Score for Decision Tree Regression model(For Testing Data) :- \", metrics.r2_score(y_test, y_pred_tree))\n",
        "print(\"Mean absolute error for Decision Tree Regression model :- \", metrics.mean_absolute_error(y_test, y_pred_tree))\n",
        "print(\"Mean squared error for Decision Tree Regression model :- \", metrics.mean_squared_error(y_test, y_pred_tree))\n",
        "print(\"Root mean squared error for Decision Tree Regression model :- \", metrics.mean_squared_error(y_test, y_pred_tree, squared=False))"
      ],
      "metadata": {
        "colab": {
          "base_uri": "https://localhost:8080/"
        },
        "id": "nQYe3NUC8Jvm",
        "outputId": "2e816026-44b5-489c-9ae7-a491d30740af"
      },
      "execution_count": 249,
      "outputs": [
        {
          "output_type": "stream",
          "name": "stdout",
          "text": [
            "R2 Score for Decision Tree Regression model(For Training Data) :-  0.996140951067578\n",
            "R2 Score for Decision Tree Regression model(For Testing Data) :-  0.759841096395939\n",
            "Mean absolute error for Decision Tree Regression model :-  726.2498179927196\n",
            "Mean squared error for Decision Tree Regression model :-  5097631.25531288\n",
            "Root mean squared error for Decision Tree Regression model :-  2257.7934483280087\n"
          ]
        }
      ]
    },
    {
      "cell_type": "markdown",
      "source": [
        "## KNeighborsRegressor"
      ],
      "metadata": {
        "id": "Sms9Ic7jHIzA"
      }
    },
    {
      "cell_type": "code",
      "source": [
        "from sklearn.neighbors import KNeighborsRegressor\n",
        "kneighbourmodel = KNeighborsRegressor()\n",
        "kneighbourmodel.fit(X_train, y_train)"
      ],
      "metadata": {
        "colab": {
          "base_uri": "https://localhost:8080/"
        },
        "id": "Fwf_jXtBHNGl",
        "outputId": "6ba3131c-642f-4806-bd36-2c0a621d4942"
      },
      "execution_count": 250,
      "outputs": [
        {
          "output_type": "execute_result",
          "data": {
            "text/plain": [
              "KNeighborsRegressor()"
            ]
          },
          "metadata": {},
          "execution_count": 250
        }
      ]
    },
    {
      "cell_type": "code",
      "source": [
        "y_pred_k = kneighbourmodel.predict(X_test)"
      ],
      "metadata": {
        "id": "ODU59QxmHbu4"
      },
      "execution_count": 251,
      "outputs": []
    },
    {
      "cell_type": "code",
      "source": [
        "print(\"R2 Score for KNeighbours Regressor model(For Training Data) :- \", metrics.r2_score(y_train, kneighbourmodel.predict(X_train)))\n",
        "print(\"R2 Score for KNeighbours Regressor model(For Testing Data) :- \", metrics.r2_score(y_test, y_pred_k))\n",
        "print(\"Mean absolute error for KNeighbours Regressor model :- \", metrics.mean_absolute_error(y_test, y_pred_k))\n",
        "print(\"Mean squared error for KNeighbours Regressor model :- \", metrics.mean_squared_error(y_test, y_pred_k))\n",
        "print(\"Root mean squared error for KNeighbours Regressor model :- \", metrics.mean_squared_error(y_test, y_pred_k, squared=False))"
      ],
      "metadata": {
        "colab": {
          "base_uri": "https://localhost:8080/"
        },
        "id": "62ZaWNnWHkFC",
        "outputId": "096577a9-cd37-43ec-8b20-e2bed6a646a5"
      },
      "execution_count": 252,
      "outputs": [
        {
          "output_type": "stream",
          "name": "stdout",
          "text": [
            "R2 Score for KNeighbours Regressor model(For Training Data) :-  0.7637245801547251\n",
            "R2 Score for KNeighbours Regressor model(For Testing Data) :-  0.6452544578402343\n",
            "Mean absolute error for KNeighbours Regressor model :-  1660.8936037441497\n",
            "Mean squared error for KNeighbours Regressor model :-  7529856.008911077\n",
            "Root mean squared error for KNeighbours Regressor model :-  2744.058310042095\n"
          ]
        }
      ]
    },
    {
      "cell_type": "markdown",
      "metadata": {
        "id": "VUnHTrl1K8LS"
      },
      "source": [
        "## Gradient boosting regressor"
      ]
    },
    {
      "cell_type": "code",
      "execution_count": 253,
      "metadata": {
        "colab": {
          "base_uri": "https://localhost:8080/"
        },
        "id": "4ovObmmXK_cX",
        "outputId": "4b24ea64-52f2-4181-c151-2b1873f5dbe2"
      },
      "outputs": [
        {
          "output_type": "execute_result",
          "data": {
            "text/plain": [
              "GradientBoostingRegressor(random_state=0)"
            ]
          },
          "metadata": {},
          "execution_count": 253
        }
      ],
      "source": [
        "from sklearn.ensemble import GradientBoostingRegressor\n",
        "gradient = GradientBoostingRegressor(random_state = 0)\n",
        "gradient.fit(X_train, y_train)"
      ]
    },
    {
      "cell_type": "code",
      "execution_count": 254,
      "metadata": {
        "id": "XrJjTPtILH5c"
      },
      "outputs": [],
      "source": [
        "y_pred_grad = gradient.predict(X_test)"
      ]
    },
    {
      "cell_type": "code",
      "source": [
        "print(\"R2 Score for Gradient Boosting Regressor model(For Training Data) :- \", metrics.r2_score(y_train, gradient.predict(X_train)))\n",
        "print(\"R2 Score for Gradient Boosting Regressor model(For Testing Data) :- \", metrics.r2_score(y_test, y_pred_grad))\n",
        "print(\"Mean absolute error for Gradient Boosting Regressor model :- \", metrics.mean_absolute_error(y_test, y_pred_grad))\n",
        "print(\"Mean squared error for Gradient Boosting Regressor model :- \", metrics.mean_squared_error(y_test, y_pred_grad))\n",
        "print(\"Root mean squared error for Gradient Boosting Regressor model :- \", metrics.mean_squared_error(y_test, y_pred_grad, squared=False))"
      ],
      "metadata": {
        "colab": {
          "base_uri": "https://localhost:8080/"
        },
        "id": "YcULVRw98SmD",
        "outputId": "5aaf900b-c815-4d08-d846-e3544325797a"
      },
      "execution_count": 255,
      "outputs": [
        {
          "output_type": "stream",
          "name": "stdout",
          "text": [
            "R2 Score for Gradient Boosting Regressor model(For Training Data) :-  0.8343761239599471\n",
            "R2 Score for Gradient Boosting Regressor model(For Testing Data) :-  0.8573844722032504\n",
            "Mean absolute error for Gradient Boosting Regressor model :-  1197.558048464638\n",
            "Mean squared error for Gradient Boosting Regressor model :-  3027168.100285082\n",
            "Root mean squared error for Gradient Boosting Regressor model :-  1739.875886460032\n"
          ]
        }
      ]
    },
    {
      "cell_type": "markdown",
      "metadata": {
        "id": "8jIGnnmw-r8a"
      },
      "source": [
        "## Hyper parameter tuning"
      ]
    },
    {
      "cell_type": "code",
      "source": [
        "from sklearn.model_selection import GridSearchCV"
      ],
      "metadata": {
        "id": "ZBDJ_qQQAhbG"
      },
      "execution_count": 256,
      "outputs": []
    },
    {
      "cell_type": "code",
      "source": [
        "param_grid = {'n_estimators':[10,30,50,70,90], 'max_depth':[None,1,2,3,4],'max_samples':[50,100,250,500,1000],'min_samples_split':[2,4,10]}\n",
        "gsv_rfr = GridSearchCV(randomforest, param_grid, cv=5)\n",
        "\n",
        "model = gsv_rfr.fit(X_train, y_train)"
      ],
      "metadata": {
        "id": "KazVJMUFAjq6"
      },
      "execution_count": 257,
      "outputs": []
    },
    {
      "cell_type": "code",
      "source": [
        "model.best_params_"
      ],
      "metadata": {
        "colab": {
          "base_uri": "https://localhost:8080/"
        },
        "id": "bjepomAIAmZ4",
        "outputId": "54c406f2-7347-479e-ad3c-85b402ac1dab"
      },
      "execution_count": 258,
      "outputs": [
        {
          "output_type": "execute_result",
          "data": {
            "text/plain": [
              "{'max_depth': None,\n",
              " 'max_samples': 1000,\n",
              " 'min_samples_split': 2,\n",
              " 'n_estimators': 90}"
            ]
          },
          "metadata": {},
          "execution_count": 258
        }
      ]
    },
    {
      "cell_type": "code",
      "source": [
        "rfr_with_grid = RandomForestRegressor(n_estimators=70, max_depth=None, max_samples=1000, min_samples_split=4 )\n",
        "rfr_with_grid.fit(X_train, y_train)\n",
        "y_pred_rfr = rfr_with_grid.predict(X_test)\n"
      ],
      "metadata": {
        "id": "SGCauVKnAoVB"
      },
      "execution_count": 259,
      "outputs": []
    },
    {
      "cell_type": "code",
      "source": [
        "from sklearn import metrics\n",
        "print(\"By GridSearchCV\")\n",
        "print(\"R2 Score for Random Forest Regressor model with hyper-parameters(For Training Data):- \",(metrics.r2_score(y_train, rfr_with_grid.predict(X_train))))\n",
        "print(\"R2 Score for Random Forest Regressor model with hyper-parameters(For Testing Data):- \",(metrics.r2_score(y_test, y_pred_rfr)))\n",
        "print(\"Mean absolute error for Random Forest Regressor model with hyper-parameters :- \", metrics.mean_absolute_error(y_test, y_pred_rfr))\n",
        "print(\"Mean squared error for Random Forest Regressor model with hyper-parameters :- \", metrics.mean_squared_error(y_test, y_pred_rfr))\n",
        "print(\"Root mean squared error for Random Forest Regressor model with hyper-parameters :- \", metrics.mean_squared_error(y_test, y_pred_rfr, squared=False))"
      ],
      "metadata": {
        "colab": {
          "base_uri": "https://localhost:8080/"
        },
        "id": "Pfjqh_MrArpd",
        "outputId": "a3324fb7-77ee-428f-9ef0-b446bf4fbf0e"
      },
      "execution_count": 260,
      "outputs": [
        {
          "output_type": "stream",
          "name": "stdout",
          "text": [
            "By GridSearchCV\n",
            "R2 Score for Random Forest Regressor model with hyper-parameters(For Training Data):-  0.8540847949940024\n",
            "R2 Score for Random Forest Regressor model with hyper-parameters(For Testing Data):-  0.8388892503177395\n",
            "Mean absolute error for Random Forest Regressor model with hyper-parameters :-  960.8868973330364\n",
            "Mean squared error for Random Forest Regressor model with hyper-parameters :-  3419749.0945461364\n",
            "Root mean squared error for Random Forest Regressor model with hyper-parameters :-  1849.2563625809528\n"
          ]
        }
      ]
    },
    {
      "cell_type": "code",
      "execution_count": 261,
      "metadata": {
        "id": "-HnmrWo9CWp-"
      },
      "outputs": [],
      "source": [
        "from sklearn.model_selection import RandomizedSearchCV"
      ]
    },
    {
      "cell_type": "code",
      "execution_count": 268,
      "metadata": {
        "id": "7eVHwT1wCHIe"
      },
      "outputs": [],
      "source": [
        "n_estimators = [int(x) for x in np.linspace(start = 100, stop = 1200, num = 12)]\n",
        "min_samples_split = [2, 5, 10, 15, 100]\n",
        "min_samples_leaf = [1, 2, 5, 10]\n",
        "max_features = ['auto', 'sqrt']\n",
        "max_depth = [int(x) for x in np.linspace(5, 30, num = 5)]\n",
        "\n"
      ]
    },
    {
      "cell_type": "code",
      "execution_count": 269,
      "metadata": {
        "id": "YbjUdJAuCOIs"
      },
      "outputs": [],
      "source": [
        "random_grid = {'n_estimators': n_estimators,\n",
        "               'max_features': max_features,\n",
        "               'max_depth': max_depth,\n",
        "               'min_samples_split': min_samples_split,\n",
        "               'min_samples_leaf': min_samples_leaf}"
      ]
    },
    {
      "cell_type": "code",
      "execution_count": 270,
      "metadata": {
        "id": "GS0y2zD7C0Hy"
      },
      "outputs": [],
      "source": [
        "# Random search of parameters, using 5 fold cross validation, \n",
        "randomsearchcv = RandomizedSearchCV(estimator = randomforest, param_distributions = random_grid,scoring='neg_mean_squared_error', n_iter = 10, cv = 5, verbose=2, random_state=42, n_jobs = 1)"
      ]
    },
    {
      "cell_type": "code",
      "execution_count": 271,
      "metadata": {
        "colab": {
          "base_uri": "https://localhost:8080/"
        },
        "id": "JOUMarjOC3rU",
        "outputId": "cf66e3ad-27e1-4060-dc7c-73d002a55eeb"
      },
      "outputs": [
        {
          "output_type": "stream",
          "name": "stdout",
          "text": [
            "Fitting 5 folds for each of 10 candidates, totalling 50 fits\n",
            "[CV] END max_depth=10, max_features=sqrt, min_samples_leaf=5, min_samples_split=5, n_estimators=900; total time=   4.6s\n",
            "[CV] END max_depth=10, max_features=sqrt, min_samples_leaf=5, min_samples_split=5, n_estimators=900; total time=   4.5s\n",
            "[CV] END max_depth=10, max_features=sqrt, min_samples_leaf=5, min_samples_split=5, n_estimators=900; total time=   4.5s\n",
            "[CV] END max_depth=10, max_features=sqrt, min_samples_leaf=5, min_samples_split=5, n_estimators=900; total time=   4.5s\n",
            "[CV] END max_depth=10, max_features=sqrt, min_samples_leaf=5, min_samples_split=5, n_estimators=900; total time=   4.6s\n",
            "[CV] END max_depth=15, max_features=sqrt, min_samples_leaf=2, min_samples_split=10, n_estimators=1100; total time=   6.5s\n",
            "[CV] END max_depth=15, max_features=sqrt, min_samples_leaf=2, min_samples_split=10, n_estimators=1100; total time=   6.6s\n",
            "[CV] END max_depth=15, max_features=sqrt, min_samples_leaf=2, min_samples_split=10, n_estimators=1100; total time=   6.7s\n",
            "[CV] END max_depth=15, max_features=sqrt, min_samples_leaf=2, min_samples_split=10, n_estimators=1100; total time=   6.5s\n",
            "[CV] END max_depth=15, max_features=sqrt, min_samples_leaf=2, min_samples_split=10, n_estimators=1100; total time=   6.9s\n",
            "[CV] END max_depth=15, max_features=auto, min_samples_leaf=5, min_samples_split=100, n_estimators=300; total time=   3.4s\n",
            "[CV] END max_depth=15, max_features=auto, min_samples_leaf=5, min_samples_split=100, n_estimators=300; total time=   3.4s\n",
            "[CV] END max_depth=15, max_features=auto, min_samples_leaf=5, min_samples_split=100, n_estimators=300; total time=   3.2s\n",
            "[CV] END max_depth=15, max_features=auto, min_samples_leaf=5, min_samples_split=100, n_estimators=300; total time=   3.4s\n",
            "[CV] END max_depth=15, max_features=auto, min_samples_leaf=5, min_samples_split=100, n_estimators=300; total time=   3.3s\n",
            "[CV] END max_depth=15, max_features=auto, min_samples_leaf=5, min_samples_split=5, n_estimators=400; total time=   6.1s\n",
            "[CV] END max_depth=15, max_features=auto, min_samples_leaf=5, min_samples_split=5, n_estimators=400; total time=   6.3s\n",
            "[CV] END max_depth=15, max_features=auto, min_samples_leaf=5, min_samples_split=5, n_estimators=400; total time=   6.1s\n",
            "[CV] END max_depth=15, max_features=auto, min_samples_leaf=5, min_samples_split=5, n_estimators=400; total time=   6.2s\n",
            "[CV] END max_depth=15, max_features=auto, min_samples_leaf=5, min_samples_split=5, n_estimators=400; total time=   6.1s\n",
            "[CV] END max_depth=20, max_features=auto, min_samples_leaf=10, min_samples_split=5, n_estimators=700; total time=   9.4s\n",
            "[CV] END max_depth=20, max_features=auto, min_samples_leaf=10, min_samples_split=5, n_estimators=700; total time=   9.5s\n",
            "[CV] END max_depth=20, max_features=auto, min_samples_leaf=10, min_samples_split=5, n_estimators=700; total time=   9.3s\n",
            "[CV] END max_depth=20, max_features=auto, min_samples_leaf=10, min_samples_split=5, n_estimators=700; total time=   9.4s\n",
            "[CV] END max_depth=20, max_features=auto, min_samples_leaf=10, min_samples_split=5, n_estimators=700; total time=   9.3s\n",
            "[CV] END max_depth=25, max_features=sqrt, min_samples_leaf=1, min_samples_split=2, n_estimators=1000; total time=   8.3s\n",
            "[CV] END max_depth=25, max_features=sqrt, min_samples_leaf=1, min_samples_split=2, n_estimators=1000; total time=   8.4s\n",
            "[CV] END max_depth=25, max_features=sqrt, min_samples_leaf=1, min_samples_split=2, n_estimators=1000; total time=   8.3s\n",
            "[CV] END max_depth=25, max_features=sqrt, min_samples_leaf=1, min_samples_split=2, n_estimators=1000; total time=   8.4s\n",
            "[CV] END max_depth=25, max_features=sqrt, min_samples_leaf=1, min_samples_split=2, n_estimators=1000; total time=   8.3s\n",
            "[CV] END max_depth=5, max_features=sqrt, min_samples_leaf=10, min_samples_split=15, n_estimators=1100; total time=   3.6s\n",
            "[CV] END max_depth=5, max_features=sqrt, min_samples_leaf=10, min_samples_split=15, n_estimators=1100; total time=   3.6s\n",
            "[CV] END max_depth=5, max_features=sqrt, min_samples_leaf=10, min_samples_split=15, n_estimators=1100; total time=   3.6s\n",
            "[CV] END max_depth=5, max_features=sqrt, min_samples_leaf=10, min_samples_split=15, n_estimators=1100; total time=   3.7s\n",
            "[CV] END max_depth=5, max_features=sqrt, min_samples_leaf=10, min_samples_split=15, n_estimators=1100; total time=   3.6s\n",
            "[CV] END max_depth=15, max_features=sqrt, min_samples_leaf=1, min_samples_split=15, n_estimators=300; total time=   1.7s\n",
            "[CV] END max_depth=15, max_features=sqrt, min_samples_leaf=1, min_samples_split=15, n_estimators=300; total time=   1.7s\n",
            "[CV] END max_depth=15, max_features=sqrt, min_samples_leaf=1, min_samples_split=15, n_estimators=300; total time=   1.7s\n",
            "[CV] END max_depth=15, max_features=sqrt, min_samples_leaf=1, min_samples_split=15, n_estimators=300; total time=   1.8s\n",
            "[CV] END max_depth=15, max_features=sqrt, min_samples_leaf=1, min_samples_split=15, n_estimators=300; total time=   1.7s\n",
            "[CV] END max_depth=5, max_features=sqrt, min_samples_leaf=2, min_samples_split=10, n_estimators=700; total time=   2.3s\n",
            "[CV] END max_depth=5, max_features=sqrt, min_samples_leaf=2, min_samples_split=10, n_estimators=700; total time=   2.3s\n",
            "[CV] END max_depth=5, max_features=sqrt, min_samples_leaf=2, min_samples_split=10, n_estimators=700; total time=   2.3s\n",
            "[CV] END max_depth=5, max_features=sqrt, min_samples_leaf=2, min_samples_split=10, n_estimators=700; total time=   2.3s\n",
            "[CV] END max_depth=5, max_features=sqrt, min_samples_leaf=2, min_samples_split=10, n_estimators=700; total time=   2.3s\n",
            "[CV] END max_depth=20, max_features=auto, min_samples_leaf=1, min_samples_split=15, n_estimators=700; total time=  11.2s\n",
            "[CV] END max_depth=20, max_features=auto, min_samples_leaf=1, min_samples_split=15, n_estimators=700; total time=  11.2s\n",
            "[CV] END max_depth=20, max_features=auto, min_samples_leaf=1, min_samples_split=15, n_estimators=700; total time=  10.9s\n",
            "[CV] END max_depth=20, max_features=auto, min_samples_leaf=1, min_samples_split=15, n_estimators=700; total time=  11.2s\n",
            "[CV] END max_depth=20, max_features=auto, min_samples_leaf=1, min_samples_split=15, n_estimators=700; total time=  11.1s\n"
          ]
        },
        {
          "output_type": "execute_result",
          "data": {
            "text/plain": [
              "RandomizedSearchCV(cv=5, estimator=RandomForestRegressor(random_state=0),\n",
              "                   n_jobs=1,\n",
              "                   param_distributions={'max_depth': [5, 10, 15, 20, 25, 30],\n",
              "                                        'max_features': ['auto', 'sqrt'],\n",
              "                                        'min_samples_leaf': [1, 2, 5, 10],\n",
              "                                        'min_samples_split': [2, 5, 10, 15,\n",
              "                                                              100],\n",
              "                                        'n_estimators': [100, 200, 300, 400,\n",
              "                                                         500, 600, 700, 800,\n",
              "                                                         900, 1000, 1100,\n",
              "                                                         1200]},\n",
              "                   random_state=42, scoring='neg_mean_squared_error',\n",
              "                   verbose=2)"
            ]
          },
          "metadata": {},
          "execution_count": 271
        }
      ],
      "source": [
        "randomsearchcv.fit(X_train,y_train)"
      ]
    },
    {
      "cell_type": "code",
      "execution_count": 272,
      "metadata": {
        "colab": {
          "base_uri": "https://localhost:8080/"
        },
        "id": "TV147Yw4CJ-M",
        "outputId": "67833ed6-60fe-445f-cee2-38caf383fcb3"
      },
      "outputs": [
        {
          "output_type": "execute_result",
          "data": {
            "text/plain": [
              "{'max_depth': 25,\n",
              " 'max_features': 'sqrt',\n",
              " 'min_samples_leaf': 1,\n",
              " 'min_samples_split': 2,\n",
              " 'n_estimators': 1000}"
            ]
          },
          "metadata": {},
          "execution_count": 272
        }
      ],
      "source": [
        "randomsearchcv.best_params_"
      ]
    },
    {
      "cell_type": "code",
      "execution_count": 273,
      "metadata": {
        "colab": {
          "base_uri": "https://localhost:8080/"
        },
        "id": "e3Zuymt6DAzY",
        "outputId": "a654f9da-3d46-4504-b26a-fb9ea8304f7a"
      },
      "outputs": [
        {
          "output_type": "stream",
          "name": "stdout",
          "text": [
            "By RandomizedSearchCV\n",
            "R2 Score for Random Forest Regressor model with hyper-parameters(For Training Data):-  0.9785878382642988\n",
            "R2 Score for Random Forest Regressor model with hyper-parameters(For Testing Data):-  0.9096612819417819\n",
            "Mean absolute error for Random Forest Regressor model with hyper-parameters :-  716.6492359147827\n",
            "Mean squared error for Random Forest Regressor model with hyper-parameters :-  1917536.538631515\n",
            "Root mean squared error for Random Forest Regressor model with hyper-parameters :-  1384.7514356849445\n"
          ]
        }
      ],
      "source": [
        "prediction = randomsearchcv.predict(X_test)\n",
        "print(\"By RandomizedSearchCV\")\n",
        "print(\"R2 Score for Random Forest Regressor model with hyper-parameters(For Training Data):- \", metrics.r2_score(y_train, randomsearchcv.predict(X_train)))\n",
        "print(\"R2 Score for Random Forest Regressor model with hyper-parameters(For Testing Data):- \", metrics.r2_score(y_test, prediction))\n",
        "print(\"Mean absolute error for Random Forest Regressor model with hyper-parameters :- \", metrics.mean_absolute_error(y_test, prediction))\n",
        "print(\"Mean squared error for Random Forest Regressor model with hyper-parameters :- \", metrics.mean_squared_error(y_test, prediction))\n",
        "print(\"Root mean squared error for Random Forest Regressor model with hyper-parameters :- \", metrics.mean_squared_error(y_test, prediction, squared=False))"
      ]
    }
  ],
  "metadata": {
    "colab": {
      "name": "B20CS024_Bonus_project.ipynb",
      "provenance": []
    },
    "kernelspec": {
      "display_name": "Python 3",
      "name": "python3"
    },
    "language_info": {
      "name": "python"
    }
  },
  "nbformat": 4,
  "nbformat_minor": 0
}